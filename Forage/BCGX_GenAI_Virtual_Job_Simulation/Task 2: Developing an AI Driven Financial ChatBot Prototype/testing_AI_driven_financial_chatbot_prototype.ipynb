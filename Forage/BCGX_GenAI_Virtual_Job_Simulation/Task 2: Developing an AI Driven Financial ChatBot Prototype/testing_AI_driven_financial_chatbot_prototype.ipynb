{
 "cells": [
  {
   "cell_type": "code",
   "execution_count": 1,
   "id": "f93c664d-54ff-40e9-9595-51cdd757b59e",
   "metadata": {},
   "outputs": [
    {
     "name": "stdout",
     "output_type": "stream",
     "text": [
      "----------------------------------------------------------------------------\n",
      "Hi! Welcome to AI-Driven Financial Chatbot!\n",
      "I can help you with your financial performance queries about Apple, Microsoft, and Teslain the last three years.\n"
     ]
    },
    {
     "name": "stdin",
     "output_type": "stream",
     "text": [
      "Enter Hi to start session or enter exit to quit: exit\n"
     ]
    }
   ],
   "source": [
    "%run AI_driven_financial_chatbot_prototype.py"
   ]
  },
  {
   "cell_type": "code",
   "execution_count": null,
   "id": "8c6df0c4-be78-4d10-bde7-c7ba6396331b",
   "metadata": {},
   "outputs": [
    {
     "name": "stdout",
     "output_type": "stream",
     "text": [
      "----------------------------------------------------------------------------\n",
      "Hi! Welcome to AI-Driven Financial Chatbot!\n",
      "I can help you with your financial performance queries about Apple, Microsoft, and Teslain the last three years.\n"
     ]
    },
    {
     "name": "stdin",
     "output_type": "stream",
     "text": [
      "Enter Hi to start session or enter exit to quit: hi\n",
      "Enter company name:  apple\n",
      "Type the fiscal year you want to explore:  2022\n",
      "Please enter the performance metrics you would like to query or enter exit to quit: total revenue\n"
     ]
    },
    {
     "name": "stdout",
     "output_type": "stream",
     "text": [
      "The net income for Apple in the fiscal year 2022 was1    394328\n",
      "Name: Total Revenue, dtype: int64\n"
     ]
    }
   ],
   "source": [
    "%run AI_driven_financial_chatbot_prototype.py"
   ]
  },
  {
   "cell_type": "code",
   "execution_count": null,
   "id": "141a11d6-3faf-44f4-bd01-ac795c1168b3",
   "metadata": {},
   "outputs": [],
   "source": []
  }
 ],
 "metadata": {
  "kernelspec": {
   "display_name": "Python 3 (ipykernel)",
   "language": "python",
   "name": "python3"
  },
  "language_info": {
   "codemirror_mode": {
    "name": "ipython",
    "version": 3
   },
   "file_extension": ".py",
   "mimetype": "text/x-python",
   "name": "python",
   "nbconvert_exporter": "python",
   "pygments_lexer": "ipython3",
   "version": "3.11.8"
  }
 },
 "nbformat": 4,
 "nbformat_minor": 5
}
