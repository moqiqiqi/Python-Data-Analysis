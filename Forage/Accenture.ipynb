{
 "cells": [
  {
   "cell_type": "markdown",
   "id": "7584e590-8c74-49d9-9f7b-07532d5e5c5a",
   "metadata": {},
   "source": [
    "## Accenture Simulation Project"
   ]
  },
  {
   "cell_type": "code",
   "execution_count": 3,
   "id": "c46ebc61-808f-4cc4-b780-f3bddf418516",
   "metadata": {},
   "outputs": [],
   "source": [
    "import pandas as pd\n",
    "import seaborn as sns\n",
    "import matplotlib.pyplot as plt"
   ]
  },
  {
   "cell_type": "code",
   "execution_count": 4,
   "id": "25bd1ddb-938d-42fd-afb1-1c84b5a8298c",
   "metadata": {},
   "outputs": [],
   "source": [
    "content = pd.read_csv('Content.csv')"
   ]
  },
  {
   "cell_type": "code",
   "execution_count": 102,
   "id": "69f8ecec-81a4-4f08-862c-9c8d90036735",
   "metadata": {},
   "outputs": [
    {
     "data": {
      "text/html": [
       "<div>\n",
       "<style scoped>\n",
       "    .dataframe tbody tr th:only-of-type {\n",
       "        vertical-align: middle;\n",
       "    }\n",
       "\n",
       "    .dataframe tbody tr th {\n",
       "        vertical-align: top;\n",
       "    }\n",
       "\n",
       "    .dataframe thead th {\n",
       "        text-align: right;\n",
       "    }\n",
       "</style>\n",
       "<table border=\"1\" class=\"dataframe\">\n",
       "  <thead>\n",
       "    <tr style=\"text-align: right;\">\n",
       "      <th></th>\n",
       "      <th>Content Type</th>\n",
       "      <th>Category</th>\n",
       "    </tr>\n",
       "    <tr>\n",
       "      <th>Content ID</th>\n",
       "      <th></th>\n",
       "      <th></th>\n",
       "    </tr>\n",
       "  </thead>\n",
       "  <tbody>\n",
       "    <tr>\n",
       "      <th>97522e57-d9ab-4bd6-97bf-c24d952602d2</th>\n",
       "      <td>photo</td>\n",
       "      <td>Studying</td>\n",
       "    </tr>\n",
       "    <tr>\n",
       "      <th>9f737e0a-3cdd-4d29-9d24-753f4e3be810</th>\n",
       "      <td>photo</td>\n",
       "      <td>healthy eating</td>\n",
       "    </tr>\n",
       "    <tr>\n",
       "      <th>230c4e4d-70c3-461d-b42c-ec09396efb3f</th>\n",
       "      <td>photo</td>\n",
       "      <td>healthy eating</td>\n",
       "    </tr>\n",
       "    <tr>\n",
       "      <th>356fff80-da4d-4785-9f43-bc1261031dc6</th>\n",
       "      <td>photo</td>\n",
       "      <td>technology</td>\n",
       "    </tr>\n",
       "    <tr>\n",
       "      <th>01ab84dd-6364-4236-abbb-3f237db77180</th>\n",
       "      <td>video</td>\n",
       "      <td>food</td>\n",
       "    </tr>\n",
       "  </tbody>\n",
       "</table>\n",
       "</div>"
      ],
      "text/plain": [
       "                                     Content Type        Category\n",
       "Content ID                                                       \n",
       "97522e57-d9ab-4bd6-97bf-c24d952602d2        photo        Studying\n",
       "9f737e0a-3cdd-4d29-9d24-753f4e3be810        photo  healthy eating\n",
       "230c4e4d-70c3-461d-b42c-ec09396efb3f        photo  healthy eating\n",
       "356fff80-da4d-4785-9f43-bc1261031dc6        photo      technology\n",
       "01ab84dd-6364-4236-abbb-3f237db77180        video            food"
      ]
     },
     "execution_count": 102,
     "metadata": {},
     "output_type": "execute_result"
    }
   ],
   "source": [
    "content.head()"
   ]
  },
  {
   "cell_type": "code",
   "execution_count": 6,
   "id": "9c7f1330-b7d3-4f29-858d-10c48f22a16d",
   "metadata": {},
   "outputs": [],
   "source": [
    "content.set_index('Content ID', inplace=True)#.drop(columns=['Unnamed', 'URL'], inplace=True)\n",
    "# 不分开写会报错 AttributeError: 'NoneType' object has no attribute 'drop'"
   ]
  },
  {
   "cell_type": "code",
   "execution_count": 7,
   "id": "0cfcef0e-9944-419b-9a32-ccbd3a43c499",
   "metadata": {},
   "outputs": [],
   "source": [
    "content.drop(columns=['Unnamed: 0', 'URL', 'User ID'], inplace=True)"
   ]
  },
  {
   "cell_type": "code",
   "execution_count": 8,
   "id": "25102886-cba2-456e-abe2-097b2d279711",
   "metadata": {},
   "outputs": [],
   "source": [
    "content.dropna(inplace=True)\n",
    "content.rename(columns={'Type': 'Content Type'}, inplace= True)"
   ]
  },
  {
   "cell_type": "code",
   "execution_count": 9,
   "id": "19f146b5-1213-4f03-846f-d978db055529",
   "metadata": {},
   "outputs": [],
   "source": [
    "content['Category']=content['Category'].str.replace('\"', '')"
   ]
  },
  {
   "cell_type": "code",
   "execution_count": 10,
   "id": "09edb18e-e4b6-4622-a7bf-bdc92a8883a0",
   "metadata": {},
   "outputs": [],
   "source": [
    "reactions = pd.read_csv('Reactions.csv')"
   ]
  },
  {
   "cell_type": "code",
   "execution_count": 103,
   "id": "579c1139-5a73-4b68-b7a7-f12cfb687db4",
   "metadata": {},
   "outputs": [
    {
     "data": {
      "text/html": [
       "<div>\n",
       "<style scoped>\n",
       "    .dataframe tbody tr th:only-of-type {\n",
       "        vertical-align: middle;\n",
       "    }\n",
       "\n",
       "    .dataframe tbody tr th {\n",
       "        vertical-align: top;\n",
       "    }\n",
       "\n",
       "    .dataframe thead th {\n",
       "        text-align: right;\n",
       "    }\n",
       "</style>\n",
       "<table border=\"1\" class=\"dataframe\">\n",
       "  <thead>\n",
       "    <tr style=\"text-align: right;\">\n",
       "      <th></th>\n",
       "      <th>Type</th>\n",
       "      <th>Datetime</th>\n",
       "    </tr>\n",
       "    <tr>\n",
       "      <th>Content ID</th>\n",
       "      <th></th>\n",
       "      <th></th>\n",
       "    </tr>\n",
       "  </thead>\n",
       "  <tbody>\n",
       "    <tr>\n",
       "      <th>97522e57-d9ab-4bd6-97bf-c24d952602d2</th>\n",
       "      <td>disgust</td>\n",
       "      <td>2020-11-07 09:43:50</td>\n",
       "    </tr>\n",
       "    <tr>\n",
       "      <th>97522e57-d9ab-4bd6-97bf-c24d952602d2</th>\n",
       "      <td>dislike</td>\n",
       "      <td>2021-06-17 12:22:51</td>\n",
       "    </tr>\n",
       "    <tr>\n",
       "      <th>97522e57-d9ab-4bd6-97bf-c24d952602d2</th>\n",
       "      <td>scared</td>\n",
       "      <td>2021-04-18 05:13:58</td>\n",
       "    </tr>\n",
       "    <tr>\n",
       "      <th>97522e57-d9ab-4bd6-97bf-c24d952602d2</th>\n",
       "      <td>disgust</td>\n",
       "      <td>2021-01-06 19:13:01</td>\n",
       "    </tr>\n",
       "    <tr>\n",
       "      <th>97522e57-d9ab-4bd6-97bf-c24d952602d2</th>\n",
       "      <td>interested</td>\n",
       "      <td>2020-08-23 12:25:58</td>\n",
       "    </tr>\n",
       "  </tbody>\n",
       "</table>\n",
       "</div>"
      ],
      "text/plain": [
       "                                            Type             Datetime\n",
       "Content ID                                                           \n",
       "97522e57-d9ab-4bd6-97bf-c24d952602d2     disgust  2020-11-07 09:43:50\n",
       "97522e57-d9ab-4bd6-97bf-c24d952602d2     dislike  2021-06-17 12:22:51\n",
       "97522e57-d9ab-4bd6-97bf-c24d952602d2      scared  2021-04-18 05:13:58\n",
       "97522e57-d9ab-4bd6-97bf-c24d952602d2     disgust  2021-01-06 19:13:01\n",
       "97522e57-d9ab-4bd6-97bf-c24d952602d2  interested  2020-08-23 12:25:58"
      ]
     },
     "execution_count": 103,
     "metadata": {},
     "output_type": "execute_result"
    }
   ],
   "source": [
    "reactions.head()"
   ]
  },
  {
   "cell_type": "code",
   "execution_count": 12,
   "id": "b4fe51a4-46dd-43e4-959b-8d629e38ec3a",
   "metadata": {},
   "outputs": [],
   "source": [
    "reactions.drop(['Unnamed: 0', 'User ID'], axis=1, inplace=True)\n",
    "reactions.set_index('Content ID', inplace=True)"
   ]
  },
  {
   "cell_type": "code",
   "execution_count": 13,
   "id": "5ad4f8f0-f1e2-40c5-ab6c-c562ae7472c3",
   "metadata": {},
   "outputs": [],
   "source": [
    "reactions.dropna(inplace=True)"
   ]
  },
  {
   "cell_type": "code",
   "execution_count": 14,
   "id": "d764c95f-99b8-4272-b2b2-8021508f91c5",
   "metadata": {},
   "outputs": [],
   "source": [
    "reactiontypes = pd.read_csv('ReactionTypes.csv')"
   ]
  },
  {
   "cell_type": "code",
   "execution_count": 104,
   "id": "340b52c1-8225-41b4-81fd-4974f7f13d37",
   "metadata": {},
   "outputs": [
    {
     "data": {
      "text/html": [
       "<div>\n",
       "<style scoped>\n",
       "    .dataframe tbody tr th:only-of-type {\n",
       "        vertical-align: middle;\n",
       "    }\n",
       "\n",
       "    .dataframe tbody tr th {\n",
       "        vertical-align: top;\n",
       "    }\n",
       "\n",
       "    .dataframe thead th {\n",
       "        text-align: right;\n",
       "    }\n",
       "</style>\n",
       "<table border=\"1\" class=\"dataframe\">\n",
       "  <thead>\n",
       "    <tr style=\"text-align: right;\">\n",
       "      <th></th>\n",
       "      <th>Type</th>\n",
       "      <th>Sentiment</th>\n",
       "      <th>Score</th>\n",
       "    </tr>\n",
       "  </thead>\n",
       "  <tbody>\n",
       "    <tr>\n",
       "      <th>0</th>\n",
       "      <td>heart</td>\n",
       "      <td>positive</td>\n",
       "      <td>60</td>\n",
       "    </tr>\n",
       "    <tr>\n",
       "      <th>1</th>\n",
       "      <td>want</td>\n",
       "      <td>positive</td>\n",
       "      <td>70</td>\n",
       "    </tr>\n",
       "    <tr>\n",
       "      <th>2</th>\n",
       "      <td>disgust</td>\n",
       "      <td>negative</td>\n",
       "      <td>0</td>\n",
       "    </tr>\n",
       "    <tr>\n",
       "      <th>3</th>\n",
       "      <td>hate</td>\n",
       "      <td>negative</td>\n",
       "      <td>5</td>\n",
       "    </tr>\n",
       "    <tr>\n",
       "      <th>4</th>\n",
       "      <td>interested</td>\n",
       "      <td>positive</td>\n",
       "      <td>30</td>\n",
       "    </tr>\n",
       "  </tbody>\n",
       "</table>\n",
       "</div>"
      ],
      "text/plain": [
       "         Type Sentiment  Score\n",
       "0       heart  positive     60\n",
       "1        want  positive     70\n",
       "2     disgust  negative      0\n",
       "3        hate  negative      5\n",
       "4  interested  positive     30"
      ]
     },
     "execution_count": 104,
     "metadata": {},
     "output_type": "execute_result"
    }
   ],
   "source": [
    "reactiontypes.head()"
   ]
  },
  {
   "cell_type": "code",
   "execution_count": 16,
   "id": "670cf36f-10c8-4686-96ff-9fb9bb85c16e",
   "metadata": {},
   "outputs": [
    {
     "data": {
      "text/html": [
       "<div>\n",
       "<style scoped>\n",
       "    .dataframe tbody tr th:only-of-type {\n",
       "        vertical-align: middle;\n",
       "    }\n",
       "\n",
       "    .dataframe tbody tr th {\n",
       "        vertical-align: top;\n",
       "    }\n",
       "\n",
       "    .dataframe thead th {\n",
       "        text-align: right;\n",
       "    }\n",
       "</style>\n",
       "<table border=\"1\" class=\"dataframe\">\n",
       "  <thead>\n",
       "    <tr style=\"text-align: right;\">\n",
       "      <th></th>\n",
       "      <th>Sentiment</th>\n",
       "      <th>Score</th>\n",
       "    </tr>\n",
       "    <tr>\n",
       "      <th>Type</th>\n",
       "      <th></th>\n",
       "      <th></th>\n",
       "    </tr>\n",
       "  </thead>\n",
       "  <tbody>\n",
       "    <tr>\n",
       "      <th>heart</th>\n",
       "      <td>positive</td>\n",
       "      <td>60</td>\n",
       "    </tr>\n",
       "    <tr>\n",
       "      <th>want</th>\n",
       "      <td>positive</td>\n",
       "      <td>70</td>\n",
       "    </tr>\n",
       "    <tr>\n",
       "      <th>disgust</th>\n",
       "      <td>negative</td>\n",
       "      <td>0</td>\n",
       "    </tr>\n",
       "    <tr>\n",
       "      <th>hate</th>\n",
       "      <td>negative</td>\n",
       "      <td>5</td>\n",
       "    </tr>\n",
       "    <tr>\n",
       "      <th>interested</th>\n",
       "      <td>positive</td>\n",
       "      <td>30</td>\n",
       "    </tr>\n",
       "    <tr>\n",
       "      <th>indifferent</th>\n",
       "      <td>neutral</td>\n",
       "      <td>20</td>\n",
       "    </tr>\n",
       "    <tr>\n",
       "      <th>love</th>\n",
       "      <td>positive</td>\n",
       "      <td>65</td>\n",
       "    </tr>\n",
       "    <tr>\n",
       "      <th>super love</th>\n",
       "      <td>positive</td>\n",
       "      <td>75</td>\n",
       "    </tr>\n",
       "    <tr>\n",
       "      <th>cherish</th>\n",
       "      <td>positive</td>\n",
       "      <td>70</td>\n",
       "    </tr>\n",
       "    <tr>\n",
       "      <th>adore</th>\n",
       "      <td>positive</td>\n",
       "      <td>72</td>\n",
       "    </tr>\n",
       "    <tr>\n",
       "      <th>like</th>\n",
       "      <td>positive</td>\n",
       "      <td>50</td>\n",
       "    </tr>\n",
       "    <tr>\n",
       "      <th>dislike</th>\n",
       "      <td>negative</td>\n",
       "      <td>10</td>\n",
       "    </tr>\n",
       "    <tr>\n",
       "      <th>intrigued</th>\n",
       "      <td>positive</td>\n",
       "      <td>45</td>\n",
       "    </tr>\n",
       "    <tr>\n",
       "      <th>peeking</th>\n",
       "      <td>neutral</td>\n",
       "      <td>35</td>\n",
       "    </tr>\n",
       "    <tr>\n",
       "      <th>scared</th>\n",
       "      <td>negative</td>\n",
       "      <td>15</td>\n",
       "    </tr>\n",
       "    <tr>\n",
       "      <th>worried</th>\n",
       "      <td>negative</td>\n",
       "      <td>12</td>\n",
       "    </tr>\n",
       "  </tbody>\n",
       "</table>\n",
       "</div>"
      ],
      "text/plain": [
       "            Sentiment  Score\n",
       "Type                        \n",
       "heart        positive     60\n",
       "want         positive     70\n",
       "disgust      negative      0\n",
       "hate         negative      5\n",
       "interested   positive     30\n",
       "indifferent   neutral     20\n",
       "love         positive     65\n",
       "super love   positive     75\n",
       "cherish      positive     70\n",
       "adore        positive     72\n",
       "like         positive     50\n",
       "dislike      negative     10\n",
       "intrigued    positive     45\n",
       "peeking       neutral     35\n",
       "scared       negative     15\n",
       "worried      negative     12"
      ]
     },
     "execution_count": 16,
     "metadata": {},
     "output_type": "execute_result"
    }
   ],
   "source": [
    "reactiontypes.drop(columns=['Unnamed: 0'], inplace= True)\n",
    "reactiontypes.set_index('Type')"
   ]
  },
  {
   "cell_type": "code",
   "execution_count": 17,
   "id": "8d4f5e68-58e4-4baf-9745-f735c6058aaf",
   "metadata": {},
   "outputs": [],
   "source": [
    "reactiontypes.dropna(inplace=True)"
   ]
  },
  {
   "cell_type": "code",
   "execution_count": 111,
   "id": "ca6ac7fd-4411-456d-ab3d-5b7e8fd0c362",
   "metadata": {},
   "outputs": [],
   "source": [
    "# content.merge(reactions, on='Content ID')；"
   ]
  },
  {
   "cell_type": "code",
   "execution_count": 187,
   "id": "1e2cdd15-469e-4196-b2e2-60c1bd81cbbd",
   "metadata": {},
   "outputs": [
    {
     "data": {
      "text/html": [
       "<div>\n",
       "<style scoped>\n",
       "    .dataframe tbody tr th:only-of-type {\n",
       "        vertical-align: middle;\n",
       "    }\n",
       "\n",
       "    .dataframe tbody tr th {\n",
       "        vertical-align: top;\n",
       "    }\n",
       "\n",
       "    .dataframe thead th {\n",
       "        text-align: right;\n",
       "    }\n",
       "</style>\n",
       "<table border=\"1\" class=\"dataframe\">\n",
       "  <thead>\n",
       "    <tr style=\"text-align: right;\">\n",
       "      <th></th>\n",
       "      <th>Content ID</th>\n",
       "      <th>Content Type</th>\n",
       "      <th>Category</th>\n",
       "      <th>Type</th>\n",
       "      <th>Datetime</th>\n",
       "      <th>Sentiment</th>\n",
       "      <th>Score</th>\n",
       "    </tr>\n",
       "  </thead>\n",
       "  <tbody>\n",
       "    <tr>\n",
       "      <th>0</th>\n",
       "      <td>97522e57-d9ab-4bd6-97bf-c24d952602d2</td>\n",
       "      <td>photo</td>\n",
       "      <td>studying</td>\n",
       "      <td>disgust</td>\n",
       "      <td>2020-11-07 09:43:50</td>\n",
       "      <td>negative</td>\n",
       "      <td>0</td>\n",
       "    </tr>\n",
       "    <tr>\n",
       "      <th>1</th>\n",
       "      <td>97522e57-d9ab-4bd6-97bf-c24d952602d2</td>\n",
       "      <td>photo</td>\n",
       "      <td>studying</td>\n",
       "      <td>disgust</td>\n",
       "      <td>2021-01-06 19:13:01</td>\n",
       "      <td>negative</td>\n",
       "      <td>0</td>\n",
       "    </tr>\n",
       "    <tr>\n",
       "      <th>2</th>\n",
       "      <td>97522e57-d9ab-4bd6-97bf-c24d952602d2</td>\n",
       "      <td>photo</td>\n",
       "      <td>studying</td>\n",
       "      <td>disgust</td>\n",
       "      <td>2021-04-09 02:46:20</td>\n",
       "      <td>negative</td>\n",
       "      <td>0</td>\n",
       "    </tr>\n",
       "    <tr>\n",
       "      <th>3</th>\n",
       "      <td>9f737e0a-3cdd-4d29-9d24-753f4e3be810</td>\n",
       "      <td>photo</td>\n",
       "      <td>healthy eating</td>\n",
       "      <td>disgust</td>\n",
       "      <td>2021-03-28 21:15:26</td>\n",
       "      <td>negative</td>\n",
       "      <td>0</td>\n",
       "    </tr>\n",
       "    <tr>\n",
       "      <th>4</th>\n",
       "      <td>230c4e4d-70c3-461d-b42c-ec09396efb3f</td>\n",
       "      <td>photo</td>\n",
       "      <td>healthy eating</td>\n",
       "      <td>disgust</td>\n",
       "      <td>2020-08-04 05:40:33</td>\n",
       "      <td>negative</td>\n",
       "      <td>0</td>\n",
       "    </tr>\n",
       "  </tbody>\n",
       "</table>\n",
       "</div>"
      ],
      "text/plain": [
       "                             Content ID Content Type        Category     Type  \\\n",
       "0  97522e57-d9ab-4bd6-97bf-c24d952602d2        photo        studying  disgust   \n",
       "1  97522e57-d9ab-4bd6-97bf-c24d952602d2        photo        studying  disgust   \n",
       "2  97522e57-d9ab-4bd6-97bf-c24d952602d2        photo        studying  disgust   \n",
       "3  9f737e0a-3cdd-4d29-9d24-753f4e3be810        photo  healthy eating  disgust   \n",
       "4  230c4e4d-70c3-461d-b42c-ec09396efb3f        photo  healthy eating  disgust   \n",
       "\n",
       "              Datetime Sentiment  Score  \n",
       "0  2020-11-07 09:43:50  negative      0  \n",
       "1  2021-01-06 19:13:01  negative      0  \n",
       "2  2021-04-09 02:46:20  negative      0  \n",
       "3  2021-03-28 21:15:26  negative      0  \n",
       "4  2020-08-04 05:40:33  negative      0  "
      ]
     },
     "metadata": {},
     "output_type": "display_data"
    },
    {
     "data": {
      "text/plain": [
       "(24573, 7)"
      ]
     },
     "metadata": {},
     "output_type": "display_data"
    }
   ],
   "source": [
    "results = content.merge(reactions, on='Content ID').reset_index().merge(reactiontypes, on='Type')\n",
    "results['Category']= results['Category'].str.lower()\n",
    "# 如果不reset_index,content Id字段就会消失不见\n",
    "display(results.head())\n",
    "display(results.shape)"
   ]
  },
  {
   "cell_type": "code",
   "execution_count": 188,
   "id": "944ea168-4615-45d1-9847-5fce2baa972a",
   "metadata": {},
   "outputs": [],
   "source": [
    "results.to_excel('results.xlsx')"
   ]
  },
  {
   "cell_type": "code",
   "execution_count": 191,
   "id": "8f9d8b5d-f846-455b-9af2-1427e4b9f69d",
   "metadata": {},
   "outputs": [],
   "source": [
    "aggregate = results.groupby('Category')['Score'].sum(). sort_values(ascending=False)"
   ]
  },
  {
   "cell_type": "code",
   "execution_count": 192,
   "id": "41afcdc4-b32a-4c19-a9c3-739803076a37",
   "metadata": {},
   "outputs": [],
   "source": [
    "top5 = aggregate[:5]"
   ]
  },
  {
   "cell_type": "code",
   "execution_count": 193,
   "id": "2716be85-fe08-4fcc-b685-71e796d3abaf",
   "metadata": {},
   "outputs": [
    {
     "data": {
      "text/plain": [
       "Category\n",
       "animals           74965\n",
       "science           71168\n",
       "healthy eating    69339\n",
       "technology        68738\n",
       "food              66676\n",
       "Name: Score, dtype: int64"
      ]
     },
     "execution_count": 193,
     "metadata": {},
     "output_type": "execute_result"
    }
   ],
   "source": [
    "top5"
   ]
  },
  {
   "cell_type": "code",
   "execution_count": 195,
   "id": "fb285d91-76ab-45f4-981c-0317f18b693a",
   "metadata": {},
   "outputs": [],
   "source": [
    "with pd.ExcelWriter('top5category.xlsx') as writer:\n",
    "    results.to_excel(writer, sheet_name='Cleaned Table')\n",
    "    aggregate.to_excel(writer, sheet_name='Aggregate Score')\n",
    "    top5.to_excel(writer, sheet_name='Top 5 Categories')"
   ]
  },
  {
   "cell_type": "code",
   "execution_count": 196,
   "id": "69a0e774-3866-403f-83a3-ce83fe4ab0d6",
   "metadata": {},
   "outputs": [
    {
     "data": {
      "image/png": "[encoded data removed]",
      "text/plain": [
       "<Figure size 900x500 with 1 Axes>"
      ]
     },
     "metadata": {},
     "output_type": "display_data"
    }
   ],
   "source": [
    "plt.figure(figsize=(9, 5))\n",
    "sns.barplot(y=top5.index, x=top5.values, color=(65/255, 105/255, 225/255));# 注意这里不能用countplot因为数据已经汇总好了\n",
    "plt.xlabel('Aggregate Scores')\n",
    "plt.ylabel('')\n",
    "plt.title(\"Top 5 Categories by aggrate 'popularity' scores\")\n",
    "plt.savefig(\"Top 5 Categories by aggrate 'popularity' scores\");"
   ]
  },
  {
   "cell_type": "code",
   "execution_count": 197,
   "id": "9b44c7a3-387e-4051-9692-081ef38ab68f",
   "metadata": {},
   "outputs": [
    {
     "data": {
      "image/png": "[encoded data removed]",
      "text/plain": [
       "<Figure size 640x480 with 1 Axes>"
      ]
     },
     "metadata": {},
     "output_type": "display_data"
    }
   ],
   "source": [
    "plt.pie(top5, labels=top5.index,autopct='%1.1f%%', startangle=140)\n",
    "plt.title('Populartiy Percentage share from top 5 categories')\n",
    "plt.savefig('Populartiy Percentage share from top 5 categories');"
   ]
  },
  {
   "cell_type": "code",
   "execution_count": 198,
   "id": "3be53160-8e11-45a9-9b5c-13c2f218ddee",
   "metadata": {},
   "outputs": [],
   "source": [
    "mostPopularCategory=results[results['Category']=='animals'].groupby('Type')['Type'].count()"
   ]
  },
  {
   "cell_type": "code",
   "execution_count": 199,
   "id": "bd567764-7bc1-474b-a8ec-722686019ad1",
   "metadata": {
    "scrolled": true
   },
   "outputs": [
    {
     "data": {
      "image/png": "[encoded data removed]",
      "text/plain": [
       "<Figure size 1000x300 with 1 Axes>"
      ]
     },
     "metadata": {},
     "output_type": "display_data"
    }
   ],
   "source": [
    "plt.figure(figsize=(10, 3))\n",
    "sns.barplot(x=mostPopularCategory.index, y=mostPopularCategory.values);\n",
    "plt.xlabel('Reaction Type')\n",
    "plt.ylabel('Count')\n",
    "plt.xticks(rotation=45);\n",
    "plt.title('Reactions to the Most Popular Category')\n",
    "plt.savefig('Reactions to the Most Popular Category');"
   ]
  },
  {
   "cell_type": "code",
   "execution_count": 200,
   "id": "c9698ecc-be49-4b75-b7d9-4b9012276591",
   "metadata": {},
   "outputs": [
    {
     "data": {
      "text/plain": [
       "pandas.core.series.Series"
      ]
     },
     "execution_count": 200,
     "metadata": {},
     "output_type": "execute_result"
    }
   ],
   "source": [
    "type(results['Datetime'].str.slice(5,7))"
   ]
  },
  {
   "cell_type": "code",
   "execution_count": 201,
   "id": "75a1f22b-beda-4957-877a-35ab55fb87e1",
   "metadata": {},
   "outputs": [
    {
     "data": {
      "text/plain": [
       "(24573, 7)"
      ]
     },
     "execution_count": 201,
     "metadata": {},
     "output_type": "execute_result"
    }
   ],
   "source": [
    "results.shape"
   ]
  },
  {
   "cell_type": "code",
   "execution_count": 202,
   "id": "b5983bd5-204b-484a-8526-669fddbe13b6",
   "metadata": {},
   "outputs": [
    {
     "data": {
      "text/plain": [
       "pandas.core.series.Series"
      ]
     },
     "metadata": {},
     "output_type": "display_data"
    },
    {
     "data": {
      "text/plain": [
       "Datetime  Content ID                          \n",
       "01        00d0cdf9-5919-4102-bf84-ebde253c3cd2    3\n",
       "          01396602-c759-4a17-90f0-8f9b3ca11b30    3\n",
       "          019b61f4-926c-438e-adaf-6119c5eab752    1\n",
       "          01aff5ec-2aa8-412e-99ec-526f0f9a6d5e    5\n",
       "          02664d35-87cf-46a6-a80b-78fbc9ac8b2f    2\n",
       "Name: Content ID, dtype: int64"
      ]
     },
     "metadata": {},
     "output_type": "display_data"
    }
   ],
   "source": [
    "results_month=results.groupby([results['Datetime'].str.slice(5,7),'Content ID'])['Content ID'].count()\n",
    "display(type(results_month))\n",
    "display(results_month.head())"
   ]
  },
  {
   "cell_type": "code",
   "execution_count": 134,
   "id": "f08c111b-b850-407c-8874-49f3a3efcc88",
   "metadata": {},
   "outputs": [],
   "source": [
    "# results_month.reset_index() 不懂ValueError: cannot insert Content ID, already exists"
   ]
  },
  {
   "cell_type": "code",
   "execution_count": 203,
   "id": "45a65d0f-9c1b-4cd1-b81c-ccab8032f496",
   "metadata": {},
   "outputs": [
    {
     "data": {
      "text/plain": [
       "Datetime\n",
       "01    781\n",
       "02    755\n",
       "03    753\n",
       "04    736\n",
       "05    759\n",
       "06    762\n",
       "07    778\n",
       "08    773\n",
       "09    754\n",
       "10    771\n",
       "11    768\n",
       "12    756\n",
       "Name: Content ID, dtype: int64"
      ]
     },
     "execution_count": 203,
     "metadata": {},
     "output_type": "execute_result"
    }
   ],
   "source": [
    "post_by_month = results_month.groupby('Datetime').count()\n",
    "post_by_month"
   ]
  },
  {
   "cell_type": "code",
   "execution_count": 205,
   "id": "ac4aac5b-b71f-440d-b023-dfa64ddc1d2b",
   "metadata": {},
   "outputs": [
    {
     "data": {
      "image/png": "[encoded data removed]",
      "text/plain": [
       "<Figure size 640x480 with 1 Axes>"
      ]
     },
     "metadata": {},
     "output_type": "display_data"
    }
   ],
   "source": [
    "# plt.figure(figsize=(10, 3))\n",
    "sns.barplot(y=post_by_month.index, x=post_by_month.values)\n",
    "plt.ylabel('Month')\n",
    "plt.xlabel('Post Count')\n",
    "plt.title('Month with posts')\n",
    "plt.yticks(rotation=45);\n",
    "plt.savefig('Month with posts');"
   ]
  },
  {
   "cell_type": "code",
   "execution_count": null,
   "id": "8e1947e2-1738-4d93-996a-55fc6de0f938",
   "metadata": {},
   "outputs": [],
   "source": []
  }
 ],
 "metadata": {
  "kernelspec": {
   "display_name": "Python 3 (ipykernel)",
   "language": "python",
   "name": "python3"
  },
  "language_info": {
   "codemirror_mode": {
    "name": "ipython",
    "version": 3
   },
   "file_extension": ".py",
   "mimetype": "text/x-python",
   "name": "python",
   "nbconvert_exporter": "python",
   "pygments_lexer": "ipython3",
   "version": "3.11.8"
  }
 },
 "nbformat": 4,
 "nbformat_minor": 5
}
