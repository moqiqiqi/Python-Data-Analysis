{
 "cells": [
  {
   "cell_type": "markdown",
   "id": "448986de-65a2-4f96-8099-535f1f391918",
   "metadata": {},
   "source": [
    "## Quantium Virtual Internship - Retail Strategy and Analytics - Task 1"
   ]
  },
  {
   "cell_type": "markdown",
   "id": "b6fe416d-4fe2-44a5-8206-d4271abd8f23",
   "metadata": {},
   "source": [
    "### Load required libraries and datasets"
   ]
  },
  {
   "cell_type": "code",
   "execution_count": 1,
   "id": "841855f3-929a-4882-969f-e66545e4470b",
   "metadata": {},
   "outputs": [],
   "source": [
    "import pandas as pd\n",
    "import numpy as np\n",
    "import seaborn as sns\n",
    "import matplotlib.pyplot as plt"
   ]
  },
  {
   "cell_type": "code",
   "execution_count": 2,
   "id": "f31d4235-46d3-4d2e-8c31-7a10eba38540",
   "metadata": {},
   "outputs": [],
   "source": [
    "customer = pd.read_csv('QVI_purchase_behaviour.csv')"
   ]
  },
  {
   "cell_type": "code",
   "execution_count": 3,
   "id": "7db340df-d0c0-4234-bb58-de86b65db5cf",
   "metadata": {},
   "outputs": [],
   "source": [
    "transaction = pd.read_excel('QVI_transaction_data.xlsx')"
   ]
  },
  {
   "cell_type": "markdown",
   "id": "d7acb5b7-238c-477b-acc0-25480ad4edf6",
   "metadata": {},
   "source": [
    "### Examining transaction data"
   ]
  },
  {
   "cell_type": "code",
   "execution_count": 4,
   "id": "7a464e55-a322-4d21-b95c-74ad4d1812cc",
   "metadata": {},
   "outputs": [
    {
     "data": {
      "text/html": [
       "<div>\n",
       "<style scoped>\n",
       "    .dataframe tbody tr th:only-of-type {\n",
       "        vertical-align: middle;\n",
       "    }\n",
       "\n",
       "    .dataframe tbody tr th {\n",
       "        vertical-align: top;\n",
       "    }\n",
       "\n",
       "    .dataframe thead th {\n",
       "        text-align: right;\n",
       "    }\n",
       "</style>\n",
       "<table border=\"1\" class=\"dataframe\">\n",
       "  <thead>\n",
       "    <tr style=\"text-align: right;\">\n",
       "      <th></th>\n",
       "      <th>DATE</th>\n",
       "      <th>STORE_NBR</th>\n",
       "      <th>LYLTY_CARD_NBR</th>\n",
       "      <th>TXN_ID</th>\n",
       "      <th>PROD_NBR</th>\n",
       "      <th>PROD_NAME</th>\n",
       "      <th>PROD_QTY</th>\n",
       "      <th>TOT_SALES</th>\n",
       "    </tr>\n",
       "  </thead>\n",
       "  <tbody>\n",
       "    <tr>\n",
       "      <th>0</th>\n",
       "      <td>43390</td>\n",
       "      <td>1</td>\n",
       "      <td>1000</td>\n",
       "      <td>1</td>\n",
       "      <td>5</td>\n",
       "      <td>Natural Chip        Compny SeaSalt175g</td>\n",
       "      <td>2</td>\n",
       "      <td>6.0</td>\n",
       "    </tr>\n",
       "    <tr>\n",
       "      <th>1</th>\n",
       "      <td>43599</td>\n",
       "      <td>1</td>\n",
       "      <td>1307</td>\n",
       "      <td>348</td>\n",
       "      <td>66</td>\n",
       "      <td>CCs Nacho Cheese    175g</td>\n",
       "      <td>3</td>\n",
       "      <td>6.3</td>\n",
       "    </tr>\n",
       "    <tr>\n",
       "      <th>2</th>\n",
       "      <td>43605</td>\n",
       "      <td>1</td>\n",
       "      <td>1343</td>\n",
       "      <td>383</td>\n",
       "      <td>61</td>\n",
       "      <td>Smiths Crinkle Cut  Chips Chicken 170g</td>\n",
       "      <td>2</td>\n",
       "      <td>2.9</td>\n",
       "    </tr>\n",
       "    <tr>\n",
       "      <th>3</th>\n",
       "      <td>43329</td>\n",
       "      <td>2</td>\n",
       "      <td>2373</td>\n",
       "      <td>974</td>\n",
       "      <td>69</td>\n",
       "      <td>Smiths Chip Thinly  S/Cream&amp;Onion 175g</td>\n",
       "      <td>5</td>\n",
       "      <td>15.0</td>\n",
       "    </tr>\n",
       "    <tr>\n",
       "      <th>4</th>\n",
       "      <td>43330</td>\n",
       "      <td>2</td>\n",
       "      <td>2426</td>\n",
       "      <td>1038</td>\n",
       "      <td>108</td>\n",
       "      <td>Kettle Tortilla ChpsHny&amp;Jlpno Chili 150g</td>\n",
       "      <td>3</td>\n",
       "      <td>13.8</td>\n",
       "    </tr>\n",
       "  </tbody>\n",
       "</table>\n",
       "</div>"
      ],
      "text/plain": [
       "    DATE  STORE_NBR  LYLTY_CARD_NBR  TXN_ID  PROD_NBR  \\\n",
       "0  43390          1            1000       1         5   \n",
       "1  43599          1            1307     348        66   \n",
       "2  43605          1            1343     383        61   \n",
       "3  43329          2            2373     974        69   \n",
       "4  43330          2            2426    1038       108   \n",
       "\n",
       "                                  PROD_NAME  PROD_QTY  TOT_SALES  \n",
       "0    Natural Chip        Compny SeaSalt175g         2        6.0  \n",
       "1                  CCs Nacho Cheese    175g         3        6.3  \n",
       "2    Smiths Crinkle Cut  Chips Chicken 170g         2        2.9  \n",
       "3    Smiths Chip Thinly  S/Cream&Onion 175g         5       15.0  \n",
       "4  Kettle Tortilla ChpsHny&Jlpno Chili 150g         3       13.8  "
      ]
     },
     "execution_count": 4,
     "metadata": {},
     "output_type": "execute_result"
    }
   ],
   "source": [
    "transaction.head()"
   ]
  },
  {
   "cell_type": "code",
   "execution_count": 5,
   "id": "dc3a51fa-af06-4821-9944-6d7fd3530525",
   "metadata": {},
   "outputs": [
    {
     "name": "stdout",
     "output_type": "stream",
     "text": [
      "<class 'pandas.core.frame.DataFrame'>\n",
      "RangeIndex: 264836 entries, 0 to 264835\n",
      "Data columns (total 8 columns):\n",
      " #   Column          Non-Null Count   Dtype  \n",
      "---  ------          --------------   -----  \n",
      " 0   DATE            264836 non-null  int64  \n",
      " 1   STORE_NBR       264836 non-null  int64  \n",
      " 2   LYLTY_CARD_NBR  264836 non-null  int64  \n",
      " 3   TXN_ID          264836 non-null  int64  \n",
      " 4   PROD_NBR        264836 non-null  int64  \n",
      " 5   PROD_NAME       264836 non-null  object \n",
      " 6   PROD_QTY        264836 non-null  int64  \n",
      " 7   TOT_SALES       264836 non-null  float64\n",
      "dtypes: float64(1), int64(6), object(1)\n",
      "memory usage: 16.2+ MB\n"
     ]
    }
   ],
   "source": [
    "transaction.info()"
   ]
  },
  {
   "cell_type": "markdown",
   "id": "eb7c04d1-9d99-4867-b4b9-dcf421016246",
   "metadata": {},
   "source": [
    "**There are no nulls in any of the columns.**"
   ]
  },
  {
   "cell_type": "markdown",
   "id": "71d411a5-e01c-49ef-a5dd-96af3709f72a",
   "metadata": {},
   "source": [
    "**We can see that the date column is in an integer format. Let's change this to a date format.**"
   ]
  },
  {
   "cell_type": "code",
   "execution_count": 6,
   "id": "95e2c580-c128-4df7-a0e1-bc7787c6751e",
   "metadata": {},
   "outputs": [],
   "source": [
    "# transaction['DATE']= pd.to_datetime(transaction['DATE'], format=\"%Y%m%d\")\n",
    "# CSV and Excel integer dates begin on 30 Dec 1899"
   ]
  },
  {
   "cell_type": "code",
   "execution_count": 7,
   "id": "15a62d68-3b91-49b5-81d1-f041e496a8e8",
   "metadata": {},
   "outputs": [],
   "source": [
    "transaction['DATE']= pd.to_datetime(transaction['DATE'], origin='1899-12-30', unit='D')"
   ]
  },
  {
   "cell_type": "code",
   "execution_count": 8,
   "id": "9c258b63-520f-49e2-bf57-3a5f589e8ed8",
   "metadata": {},
   "outputs": [
    {
     "name": "stdout",
     "output_type": "stream",
     "text": [
      "datetime64[ns]\n"
     ]
    }
   ],
   "source": [
    "print(transaction['DATE'].dtype)"
   ]
  },
  {
   "cell_type": "code",
   "execution_count": 9,
   "id": "adf489d6-bf16-4b1a-83a5-e8de34fc6082",
   "metadata": {},
   "outputs": [
    {
     "data": {
      "text/plain": [
       "0   2018-10-17\n",
       "1   2019-05-14\n",
       "2   2019-05-20\n",
       "3   2018-08-17\n",
       "4   2018-08-18\n",
       "Name: DATE, dtype: datetime64[ns]"
      ]
     },
     "execution_count": 9,
     "metadata": {},
     "output_type": "execute_result"
    }
   ],
   "source": [
    "transaction['DATE'].head()"
   ]
  },
  {
   "cell_type": "markdown",
   "id": "c576967b-0ffb-45e9-b6a4-4d598f9b485a",
   "metadata": {},
   "source": [
    "**We should check that we are looking at the right products by examining PROD_NAME. Generate a summary of the PROD_NAME column.**"
   ]
  },
  {
   "cell_type": "code",
   "execution_count": 10,
   "id": "0f549b35-1606-44f1-914c-8c62535c334f",
   "metadata": {},
   "outputs": [
    {
     "data": {
      "text/html": [
       "<div>\n",
       "<style scoped>\n",
       "    .dataframe tbody tr th:only-of-type {\n",
       "        vertical-align: middle;\n",
       "    }\n",
       "\n",
       "    .dataframe tbody tr th {\n",
       "        vertical-align: top;\n",
       "    }\n",
       "\n",
       "    .dataframe thead th {\n",
       "        text-align: right;\n",
       "    }\n",
       "</style>\n",
       "<table border=\"1\" class=\"dataframe\">\n",
       "  <thead>\n",
       "    <tr style=\"text-align: right;\">\n",
       "      <th></th>\n",
       "      <th>PROD_NAME</th>\n",
       "      <th>count</th>\n",
       "    </tr>\n",
       "  </thead>\n",
       "  <tbody>\n",
       "    <tr>\n",
       "      <th>0</th>\n",
       "      <td>Kettle Mozzarella   Basil &amp; Pesto 175g</td>\n",
       "      <td>3304</td>\n",
       "    </tr>\n",
       "    <tr>\n",
       "      <th>1</th>\n",
       "      <td>Kettle Tortilla ChpsHny&amp;Jlpno Chili 150g</td>\n",
       "      <td>3296</td>\n",
       "    </tr>\n",
       "    <tr>\n",
       "      <th>2</th>\n",
       "      <td>Cobs Popd Swt/Chlli &amp;Sr/Cream Chips 110g</td>\n",
       "      <td>3269</td>\n",
       "    </tr>\n",
       "    <tr>\n",
       "      <th>3</th>\n",
       "      <td>Tyrrells Crisps     Ched &amp; Chives 165g</td>\n",
       "      <td>3268</td>\n",
       "    </tr>\n",
       "    <tr>\n",
       "      <th>4</th>\n",
       "      <td>Cobs Popd Sea Salt  Chips 110g</td>\n",
       "      <td>3265</td>\n",
       "    </tr>\n",
       "    <tr>\n",
       "      <th>...</th>\n",
       "      <td>...</td>\n",
       "      <td>...</td>\n",
       "    </tr>\n",
       "    <tr>\n",
       "      <th>109</th>\n",
       "      <td>RRD Pc Sea Salt     165g</td>\n",
       "      <td>1431</td>\n",
       "    </tr>\n",
       "    <tr>\n",
       "      <th>110</th>\n",
       "      <td>Woolworths Medium   Salsa 300g</td>\n",
       "      <td>1430</td>\n",
       "    </tr>\n",
       "    <tr>\n",
       "      <th>111</th>\n",
       "      <td>NCC Sour Cream &amp;    Garden Chives 175g</td>\n",
       "      <td>1419</td>\n",
       "    </tr>\n",
       "    <tr>\n",
       "      <th>112</th>\n",
       "      <td>French Fries Potato Chips 175g</td>\n",
       "      <td>1418</td>\n",
       "    </tr>\n",
       "    <tr>\n",
       "      <th>113</th>\n",
       "      <td>WW Crinkle Cut      Original 175g</td>\n",
       "      <td>1410</td>\n",
       "    </tr>\n",
       "  </tbody>\n",
       "</table>\n",
       "<p>114 rows × 2 columns</p>\n",
       "</div>"
      ],
      "text/plain": [
       "                                    PROD_NAME  count\n",
       "0      Kettle Mozzarella   Basil & Pesto 175g   3304\n",
       "1    Kettle Tortilla ChpsHny&Jlpno Chili 150g   3296\n",
       "2    Cobs Popd Swt/Chlli &Sr/Cream Chips 110g   3269\n",
       "3      Tyrrells Crisps     Ched & Chives 165g   3268\n",
       "4              Cobs Popd Sea Salt  Chips 110g   3265\n",
       "..                                        ...    ...\n",
       "109                  RRD Pc Sea Salt     165g   1431\n",
       "110            Woolworths Medium   Salsa 300g   1430\n",
       "111    NCC Sour Cream &    Garden Chives 175g   1419\n",
       "112            French Fries Potato Chips 175g   1418\n",
       "113         WW Crinkle Cut      Original 175g   1410\n",
       "\n",
       "[114 rows x 2 columns]"
      ]
     },
     "execution_count": 10,
     "metadata": {},
     "output_type": "execute_result"
    }
   ],
   "source": [
    "# products = transaction['PROD_NAME'].unique()\n",
    "# products_series = pd.Series(products)\n",
    "products = transaction['PROD_NAME'].value_counts().reset_index()\n",
    "products"
   ]
  },
  {
   "cell_type": "code",
   "execution_count": 11,
   "id": "7c0fefe4-08e5-4f79-b4c8-460f90735387",
   "metadata": {},
   "outputs": [
    {
     "name": "stdout",
     "output_type": "stream",
     "text": [
      "                                    PROD_NAME  count\n",
      "0      Kettle Mozzarella   Basil & Pesto 175g   3304\n",
      "1    Kettle Tortilla ChpsHny&Jlpno Chili 150g   3296\n",
      "2    Cobs Popd Swt/Chlli &Sr/Cream Chips 110g   3269\n",
      "3      Tyrrells Crisps     Ched & Chives 165g   3268\n",
      "4              Cobs Popd Sea Salt  Chips 110g   3265\n",
      "5                Kettle 135g Swt Pot Sea Salt   3257\n",
      "6               Tostitos Splash Of  Lime 175g   3252\n",
      "7    Infuzions Thai SweetChili PotatoMix 110g   3242\n",
      "8      Smiths Crnkle Chip  Orgnl Big Bag 380g   3233\n",
      "9        Thins Potato Chips  Hot & Spicy 175g   3229\n",
      "10   Kettle Sensations   Camembert & Fig 150g   3219\n",
      "11    Doritos Corn Chips  Cheese Supreme 170g   3217\n",
      "12                   Pringles Barbeque   134g   3210\n",
      "13    Doritos Corn Chip Mexican Jalapeno 150g   3204\n",
      "14    Kettle Sweet Chilli And Sour Cream 175g   3200\n",
      "15   Smiths Crinkle Chips Salt & Vinegar 330g   3197\n",
      "16             Thins Chips Light&  Tangy 175g   3188\n",
      "17           Dorito Corn Chp     Supreme 380g   3185\n",
      "18               Pringles Sweet&Spcy BBQ 134g   3177\n",
      "19    Infuzions BBQ Rib   Prawn Crackers 110g   3174\n",
      "20    Tyrrells Crisps     Lightly Salted 165g   3174\n",
      "21       Kettle Sea Salt     And Vinegar 175g   3173\n",
      "22    Doritos Corn Chip Southern Chicken 150g   3172\n",
      "23                       Twisties Chicken270g   3170\n",
      "24            Twisties Cheese     Burger 250g   3169\n",
      "25      Grain Waves         Sweet Chilli 210g   3167\n",
      "26             Pringles SourCream  Onion 134g   3162\n",
      "27      Doritos Corn Chips  Nacho Cheese 170g   3160\n",
      "28     Cobs Popd Sour Crm  &Chives Chips 110g   3159\n",
      "29                       Kettle Original 175g   3159\n",
      "30            Pringles Original   Crisps 134g   3157\n",
      "31                       Cheezels Cheese 330g   3149\n",
      "32           Kettle Honey Soy    Chicken 175g   3148\n",
      "33    Kettle Tortilla ChpsBtroot&Ricotta 150g   3146\n",
      "34          Tostitos Smoked     Chipotle 175g   3145\n",
      "35     Infzns Crn Crnchers Tangy Gcamole 110g   3144\n",
      "36          Smiths Crinkle      Original 330g   3142\n",
      "37       Kettle Tortilla ChpsFeta&Garlic 150g   3138\n",
      "38   Infuzions SourCream&Herbs Veg Strws 110g   3134\n",
      "39      Kettle Sensations   Siracha Lime 150g   3127\n",
      "40   Old El Paso Salsa   Dip Chnky Tom Ht300g   3125\n",
      "41          Doritos Corn Chips  Original 170g   3121\n",
      "42                   Doritos Mexicana    170g   3115\n",
      "43                   Twisties Cheese     270g   3115\n",
      "44           Thins Chips Seasonedchicken 175g   3114\n",
      "45    Old El Paso Salsa   Dip Tomato Med 300g   3114\n",
      "46           Pringles Mystery    Flavour 134g   3114\n",
      "47      Grain Waves Sour    Cream&Chives 210G   3105\n",
      "48        Pringles Chicken    Salt Crips 134g   3104\n",
      "49           Thins Chips Salt &  Vinegar 175g   3103\n",
      "50                   Pringles Slt Vingar 134g   3095\n",
      "51   Old El Paso Salsa   Dip Tomato Mild 300g   3085\n",
      "52         Kettle Sensations   BBQ&Maple 150g   3083\n",
      "53           Pringles Sthrn FriedChicken 134g   3083\n",
      "54            Tostitos Lightly    Salted 175g   3074\n",
      "55           Doritos Cheese      Supreme 330g   3052\n",
      "56                         Kettle Chilli 175g   3038\n",
      "57      Smiths Chip Thinly  Cut Original 175g   1614\n",
      "58       Snbts Whlgrn Crisps Cheddr&Mstrd 90g   1576\n",
      "59    Natural Chip Co     Tmato Hrb&Spce 175g   1572\n",
      "60                          Burger Rings 220g   1564\n",
      "61     Natural ChipCo Sea  Salt & Vinegr 175g   1550\n",
      "62                   CCs Tasty Cheese    175g   1539\n",
      "63        RRD SR Slow Rst     Pork Belly 150g   1526\n",
      "64     Smiths Thinly Cut   Roast Chicken 175g   1519\n",
      "65        RRD Sweet Chilli &  Sour Cream 165g   1516\n",
      "66             Woolworths Cheese   Rings 190g   1516\n",
      "67                          CCs Original 175g   1514\n",
      "68           RRD Honey Soy       Chicken 165g   1513\n",
      "69      Smith Crinkle Cut   Mac N Cheese 150g   1512\n",
      "70        WW Supreme Cheese   Corn Chips 200g   1509\n",
      "71    Infuzions Mango     Chutny Papadums 70g   1507\n",
      "72           RRD Chilli&         Coconut 150g   1506\n",
      "73        Smiths Crinkle Cut  Snag&Sauce 150g   1503\n",
      "74    Red Rock Deli Sp    Salt & Truffle 150G   1498\n",
      "75                   CCs Nacho Cheese    175g   1498\n",
      "76             WW Original Corn    Chips 200g   1495\n",
      "77       Red Rock Deli Thai  Chilli&Lime 150g   1495\n",
      "78             Woolworths Mild     Salsa 300g   1491\n",
      "79    Smiths Crinkle Cut  Chips Barbecue 170g   1489\n",
      "80             WW Original Stacked Chips 160g   1487\n",
      "81     Smiths Crinkle Cut  Chips Chicken 170g   1484\n",
      "82     WW Sour Cream &OnionStacked Chips 160g   1483\n",
      "83    Smiths Crinkle Cut  Chips Chs&Onion170g   1481\n",
      "84             Cheetos Chs & Bacon Balls 190g   1479\n",
      "85                   RRD Salt & Vinegar  165g   1474\n",
      "86                   RRD Lime & Pepper   165g   1473\n",
      "87     Smiths Chip Thinly  S/Cream&Onion 175g   1473\n",
      "88                   Doritos Salsa Mild  300g   1472\n",
      "89      Smiths Crinkle Cut  Tomato Salsa 150g   1470\n",
      "90          WW D/Style Chip     Sea Salt 200g   1469\n",
      "91     Natural Chip        Compny SeaSalt175g   1468\n",
      "92      GrnWves Plus Btroot & Chilli Jam 180g   1468\n",
      "93           WW Crinkle Cut      Chicken 175g   1467\n",
      "94   Smiths Thinly       Swt Chli&S/Cream175G   1461\n",
      "95    Smiths Crinkle Cut  Chips Original 170g   1461\n",
      "96     Natural ChipCo      Hony Soy Chckn175g   1460\n",
      "97   Red Rock Deli SR    Salsa & Mzzrlla 150g   1458\n",
      "98    Smiths Crinkle Cut  Salt & Vinegar 170g   1455\n",
      "99       RRD Steak &         Chimuchurri 150g   1455\n",
      "100                  Cheezels Cheese Box 125g   1454\n",
      "101        Smith Crinkle Cut   Bolognese 150g   1451\n",
      "102           Doritos Salsa       Medium 300g   1449\n",
      "103                        Cheetos Puffs 165g   1448\n",
      "104    Thins Chips         Originl saltd 175g   1441\n",
      "105    Smiths Chip Thinly  CutSalt/Vinegr175g   1440\n",
      "106  Smiths Crinkle Cut  French OnionDip 150g   1438\n",
      "107     Red Rock Deli Chikn&Garlic Aioli 150g   1434\n",
      "108  Sunbites Whlegrn    Crisps Frch/Onin 90g   1432\n",
      "109                  RRD Pc Sea Salt     165g   1431\n",
      "110            Woolworths Medium   Salsa 300g   1430\n",
      "111    NCC Sour Cream &    Garden Chives 175g   1419\n",
      "112            French Fries Potato Chips 175g   1418\n",
      "113         WW Crinkle Cut      Original 175g   1410\n"
     ]
    }
   ],
   "source": [
    "with pd.option_context('display.max_rows', None):\n",
    "    print(products)"
   ]
  },
  {
   "cell_type": "markdown",
   "id": "2fe8362b-c344-451d-b437-29d37d5546bb",
   "metadata": {},
   "source": [
    "**Examine the words in PROD_NAME to see if there are any incorrect entries such as products that are not chips.**"
   ]
  },
  {
   "cell_type": "code",
   "execution_count": 12,
   "id": "2de41388-71b7-4531-800b-ddd4fb528f00",
   "metadata": {},
   "outputs": [
    {
     "data": {
      "text/plain": [
       "0          Kettle\n",
       "0      Mozzarella\n",
       "0           Basil\n",
       "0               &\n",
       "0           Pesto\n",
       "          ...    \n",
       "113            WW\n",
       "113       Crinkle\n",
       "113           Cut\n",
       "113      Original\n",
       "113          175g\n",
       "Name: PROD_NAME, Length: 589, dtype: object"
      ]
     },
     "execution_count": 12,
     "metadata": {},
     "output_type": "execute_result"
    }
   ],
   "source": [
    "product_words = products['PROD_NAME'].str.split().explode()\n",
    "product_words"
   ]
  },
  {
   "cell_type": "markdown",
   "id": "27c3619e-7b76-4a73-b4f4-6aa86a29e7e8",
   "metadata": {},
   "source": [
    "**As we are only interested in words that will tell us if the product is chips or not, let's remove all words with digits and special characters such as \"&\".**"
   ]
  },
  {
   "cell_type": "code",
   "execution_count": 13,
   "id": "f9bf8f3a-31a4-4285-9472-de0bad07ba8a",
   "metadata": {},
   "outputs": [
    {
     "data": {
      "text/plain": [
       "PROD_NAME\n",
       "Chips       21\n",
       "Smiths      16\n",
       "Crinkle     14\n",
       "Cut         14\n",
       "Kettle      13\n",
       "            ..\n",
       "Infzns       1\n",
       "Chipotle     1\n",
       "Smoked       1\n",
       "Crm          1\n",
       "Fries        1\n",
       "Name: count, Length: 168, dtype: int64"
      ]
     },
     "execution_count": 13,
     "metadata": {},
     "output_type": "execute_result"
    }
   ],
   "source": [
    "# Remove digits, and special characters, and then sort the distinct words by frequency of occurrence.\n",
    "clean_words = product_words[product_words.str.contains('^[a-zA-Z]+$', regex=True)]\n",
    "clean_words.value_counts()"
   ]
  },
  {
   "cell_type": "code",
   "execution_count": 14,
   "id": "1ecacbaf-c71c-4c7b-b5dc-d9f37c5921c6",
   "metadata": {},
   "outputs": [
    {
     "name": "stdout",
     "output_type": "stream",
     "text": [
      "PROD_NAME\n",
      "Chips              21\n",
      "Smiths             16\n",
      "Crinkle            14\n",
      "Cut                14\n",
      "Kettle             13\n",
      "Cheese             12\n",
      "Salt               12\n",
      "Original           10\n",
      "Chip                9\n",
      "Doritos             9\n",
      "Salsa               9\n",
      "RRD                 8\n",
      "Pringles            8\n",
      "Corn                8\n",
      "WW                  7\n",
      "Chicken             7\n",
      "Sea                 6\n",
      "Sour                6\n",
      "Thinly              5\n",
      "Crisps              5\n",
      "Vinegar             5\n",
      "Chilli              5\n",
      "Thins               5\n",
      "Rock                4\n",
      "Red                 4\n",
      "Deli                4\n",
      "Infuzions           4\n",
      "Supreme             4\n",
      "Cream               4\n",
      "Natural             4\n",
      "Soy                 3\n",
      "Sensations          3\n",
      "Twisties            3\n",
      "Sweet               3\n",
      "Old                 3\n",
      "Tostitos            3\n",
      "CCs                 3\n",
      "El                  3\n",
      "Paso                3\n",
      "Dip                 3\n",
      "Lime                3\n",
      "Tomato              3\n",
      "Tortilla            3\n",
      "Cobs                3\n",
      "Woolworths          3\n",
      "Popd                3\n",
      "Mild                3\n",
      "SR                  2\n",
      "Burger              2\n",
      "Grain               2\n",
      "Lightly             2\n",
      "Waves               2\n",
      "Honey               2\n",
      "Cheetos             2\n",
      "Nacho               2\n",
      "Smith               2\n",
      "Cheezels            2\n",
      "Salted              2\n",
      "BBQ                 2\n",
      "Medium              2\n",
      "And                 2\n",
      "Tyrrells            2\n",
      "Chives              2\n",
      "Swt                 2\n",
      "Thai                2\n",
      "French              2\n",
      "Potato              2\n",
      "Rings               2\n",
      "ChipCo              2\n",
      "Tangy               2\n",
      "GrnWves             1\n",
      "Mac                 1\n",
      "OnionDip            1\n",
      "Aioli               1\n",
      "Sunbites            1\n",
      "Roast               1\n",
      "Belly               1\n",
      "Pork                1\n",
      "Rst                 1\n",
      "Chs                 1\n",
      "Slow                1\n",
      "Bacon               1\n",
      "Whlegrn             1\n",
      "Compny              1\n",
      "Pc                  1\n",
      "Tasty               1\n",
      "NCC                 1\n",
      "Garden              1\n",
      "Vinegr              1\n",
      "N                   1\n",
      "Mango               1\n",
      "Btroot              1\n",
      "Sp                  1\n",
      "Jam                 1\n",
      "Stacked             1\n",
      "Hony                1\n",
      "Mzzrlla             1\n",
      "Steak               1\n",
      "Chimuchurri         1\n",
      "Barbecue            1\n",
      "Truffle             1\n",
      "Box                 1\n",
      "Plus                1\n",
      "Bolognese           1\n",
      "Coconut             1\n",
      "Papadums            1\n",
      "Chutny              1\n",
      "Pepper              1\n",
      "Puffs               1\n",
      "Originl             1\n",
      "saltd               1\n",
      "Balls               1\n",
      "Siracha             1\n",
      "Tmato               1\n",
      "Bag                 1\n",
      "Prawn               1\n",
      "Rib                 1\n",
      "Chp                 1\n",
      "Dorito              1\n",
      "Jalapeno            1\n",
      "Mexican             1\n",
      "Barbeque            1\n",
      "Fig                 1\n",
      "Camembert           1\n",
      "Spicy               1\n",
      "Hot                 1\n",
      "Big                 1\n",
      "Southern            1\n",
      "Orgnl               1\n",
      "Crnkle              1\n",
      "PotatoMix           1\n",
      "SweetChili          1\n",
      "Of                  1\n",
      "Splash              1\n",
      "Pot                 1\n",
      "Ched                1\n",
      "Chili               1\n",
      "Pesto               1\n",
      "Basil               1\n",
      "Crackers            1\n",
      "SourCream           1\n",
      "Co                  1\n",
      "Mexicana            1\n",
      "Whlgrn              1\n",
      "Snbts               1\n",
      "FriedChicken        1\n",
      "Sthrn               1\n",
      "Vingar              1\n",
      "Slt                 1\n",
      "Crips               1\n",
      "Flavour             1\n",
      "Mystery             1\n",
      "Med                 1\n",
      "Seasonedchicken     1\n",
      "Tom                 1\n",
      "Onion               1\n",
      "Chnky               1\n",
      "Mozzarella          1\n",
      "Strws               1\n",
      "Veg                 1\n",
      "Gcamole             1\n",
      "Crnchers            1\n",
      "Crn                 1\n",
      "Infzns              1\n",
      "Chipotle            1\n",
      "Smoked              1\n",
      "Crm                 1\n",
      "Fries               1\n",
      "Name: count, dtype: int64\n"
     ]
    }
   ],
   "source": [
    "with pd.option_context('display.max_rows', None):\n",
    "    print(clean_words.value_counts())"
   ]
  },
  {
   "cell_type": "markdown",
   "id": "221c5fd7-63ce-4054-bcd5-bb01f5a3b4c9",
   "metadata": {},
   "source": [
    "**Remove salsa products**"
   ]
  },
  {
   "cell_type": "code",
   "execution_count": 15,
   "id": "6f1f1e37-d277-4763-bad7-a5c8813c3223",
   "metadata": {},
   "outputs": [
    {
     "data": {
      "text/html": [
       "<div>\n",
       "<style scoped>\n",
       "    .dataframe tbody tr th:only-of-type {\n",
       "        vertical-align: middle;\n",
       "    }\n",
       "\n",
       "    .dataframe tbody tr th {\n",
       "        vertical-align: top;\n",
       "    }\n",
       "\n",
       "    .dataframe thead th {\n",
       "        text-align: right;\n",
       "    }\n",
       "</style>\n",
       "<table border=\"1\" class=\"dataframe\">\n",
       "  <thead>\n",
       "    <tr style=\"text-align: right;\">\n",
       "      <th></th>\n",
       "      <th>PROD_NAME</th>\n",
       "      <th>count</th>\n",
       "    </tr>\n",
       "  </thead>\n",
       "  <tbody>\n",
       "    <tr>\n",
       "      <th>40</th>\n",
       "      <td>Old El Paso Salsa   Dip Chnky Tom Ht300g</td>\n",
       "      <td>3125</td>\n",
       "    </tr>\n",
       "    <tr>\n",
       "      <th>45</th>\n",
       "      <td>Old El Paso Salsa   Dip Tomato Med 300g</td>\n",
       "      <td>3114</td>\n",
       "    </tr>\n",
       "    <tr>\n",
       "      <th>51</th>\n",
       "      <td>Old El Paso Salsa   Dip Tomato Mild 300g</td>\n",
       "      <td>3085</td>\n",
       "    </tr>\n",
       "    <tr>\n",
       "      <th>78</th>\n",
       "      <td>Woolworths Mild     Salsa 300g</td>\n",
       "      <td>1491</td>\n",
       "    </tr>\n",
       "    <tr>\n",
       "      <th>88</th>\n",
       "      <td>Doritos Salsa Mild  300g</td>\n",
       "      <td>1472</td>\n",
       "    </tr>\n",
       "    <tr>\n",
       "      <th>89</th>\n",
       "      <td>Smiths Crinkle Cut  Tomato Salsa 150g</td>\n",
       "      <td>1470</td>\n",
       "    </tr>\n",
       "    <tr>\n",
       "      <th>97</th>\n",
       "      <td>Red Rock Deli SR    Salsa &amp; Mzzrlla 150g</td>\n",
       "      <td>1458</td>\n",
       "    </tr>\n",
       "    <tr>\n",
       "      <th>102</th>\n",
       "      <td>Doritos Salsa       Medium 300g</td>\n",
       "      <td>1449</td>\n",
       "    </tr>\n",
       "    <tr>\n",
       "      <th>110</th>\n",
       "      <td>Woolworths Medium   Salsa 300g</td>\n",
       "      <td>1430</td>\n",
       "    </tr>\n",
       "  </tbody>\n",
       "</table>\n",
       "</div>"
      ],
      "text/plain": [
       "                                    PROD_NAME  count\n",
       "40   Old El Paso Salsa   Dip Chnky Tom Ht300g   3125\n",
       "45    Old El Paso Salsa   Dip Tomato Med 300g   3114\n",
       "51   Old El Paso Salsa   Dip Tomato Mild 300g   3085\n",
       "78             Woolworths Mild     Salsa 300g   1491\n",
       "88                   Doritos Salsa Mild  300g   1472\n",
       "89      Smiths Crinkle Cut  Tomato Salsa 150g   1470\n",
       "97   Red Rock Deli SR    Salsa & Mzzrlla 150g   1458\n",
       "102           Doritos Salsa       Medium 300g   1449\n",
       "110            Woolworths Medium   Salsa 300g   1430"
      ]
     },
     "execution_count": 15,
     "metadata": {},
     "output_type": "execute_result"
    }
   ],
   "source": [
    "products[products['PROD_NAME'].str.contains('[Ss]alsa')]"
   ]
  },
  {
   "cell_type": "code",
   "execution_count": 16,
   "id": "8f4f2a2d-a66d-4e84-b257-333c38511fa9",
   "metadata": {},
   "outputs": [],
   "source": [
    "transaction=transaction[~transaction['PROD_NAME'].str.contains('[Ss]alsa')]"
   ]
  },
  {
   "cell_type": "code",
   "execution_count": 17,
   "id": "b3de4392-4462-41d8-a712-660dbfe8d8b4",
   "metadata": {},
   "outputs": [
    {
     "data": {
      "text/html": [
       "<div>\n",
       "<style scoped>\n",
       "    .dataframe tbody tr th:only-of-type {\n",
       "        vertical-align: middle;\n",
       "    }\n",
       "\n",
       "    .dataframe tbody tr th {\n",
       "        vertical-align: top;\n",
       "    }\n",
       "\n",
       "    .dataframe thead th {\n",
       "        text-align: right;\n",
       "    }\n",
       "</style>\n",
       "<table border=\"1\" class=\"dataframe\">\n",
       "  <thead>\n",
       "    <tr style=\"text-align: right;\">\n",
       "      <th></th>\n",
       "      <th>DATE</th>\n",
       "      <th>STORE_NBR</th>\n",
       "      <th>LYLTY_CARD_NBR</th>\n",
       "      <th>TXN_ID</th>\n",
       "      <th>PROD_NBR</th>\n",
       "      <th>PROD_NAME</th>\n",
       "      <th>PROD_QTY</th>\n",
       "      <th>TOT_SALES</th>\n",
       "    </tr>\n",
       "  </thead>\n",
       "  <tbody>\n",
       "  </tbody>\n",
       "</table>\n",
       "</div>"
      ],
      "text/plain": [
       "Empty DataFrame\n",
       "Columns: [DATE, STORE_NBR, LYLTY_CARD_NBR, TXN_ID, PROD_NBR, PROD_NAME, PROD_QTY, TOT_SALES]\n",
       "Index: []"
      ]
     },
     "execution_count": 17,
     "metadata": {},
     "output_type": "execute_result"
    }
   ],
   "source": [
    "transaction[transaction['PROD_NAME'].str.contains('[Ss]alsa')]"
   ]
  },
  {
   "cell_type": "markdown",
   "id": "c617c3b8-34ad-4b31-a26a-57fb16d6b941",
   "metadata": {},
   "source": [
    "**Check summary statistics such as mean, min and max values for each feature to see if there are any obvious outliers in the data a.**"
   ]
  },
  {
   "cell_type": "code",
   "execution_count": 18,
   "id": "3459975f-0496-4801-ac85-90dfb020393f",
   "metadata": {},
   "outputs": [
    {
     "data": {
      "text/html": [
       "<div>\n",
       "<style scoped>\n",
       "    .dataframe tbody tr th:only-of-type {\n",
       "        vertical-align: middle;\n",
       "    }\n",
       "\n",
       "    .dataframe tbody tr th {\n",
       "        vertical-align: top;\n",
       "    }\n",
       "\n",
       "    .dataframe thead th {\n",
       "        text-align: right;\n",
       "    }\n",
       "</style>\n",
       "<table border=\"1\" class=\"dataframe\">\n",
       "  <thead>\n",
       "    <tr style=\"text-align: right;\">\n",
       "      <th></th>\n",
       "      <th>DATE</th>\n",
       "      <th>STORE_NBR</th>\n",
       "      <th>LYLTY_CARD_NBR</th>\n",
       "      <th>TXN_ID</th>\n",
       "      <th>PROD_NBR</th>\n",
       "      <th>PROD_QTY</th>\n",
       "      <th>TOT_SALES</th>\n",
       "    </tr>\n",
       "  </thead>\n",
       "  <tbody>\n",
       "    <tr>\n",
       "      <th>count</th>\n",
       "      <td>246742</td>\n",
       "      <td>246742.000000</td>\n",
       "      <td>2.467420e+05</td>\n",
       "      <td>2.467420e+05</td>\n",
       "      <td>246742.000000</td>\n",
       "      <td>246742.000000</td>\n",
       "      <td>246742.000000</td>\n",
       "    </tr>\n",
       "    <tr>\n",
       "      <th>mean</th>\n",
       "      <td>2018-12-30 01:19:01.211467520</td>\n",
       "      <td>135.051098</td>\n",
       "      <td>1.355310e+05</td>\n",
       "      <td>1.351311e+05</td>\n",
       "      <td>56.351789</td>\n",
       "      <td>1.908062</td>\n",
       "      <td>7.321322</td>\n",
       "    </tr>\n",
       "    <tr>\n",
       "      <th>min</th>\n",
       "      <td>2018-07-01 00:00:00</td>\n",
       "      <td>1.000000</td>\n",
       "      <td>1.000000e+03</td>\n",
       "      <td>1.000000e+00</td>\n",
       "      <td>1.000000</td>\n",
       "      <td>1.000000</td>\n",
       "      <td>1.700000</td>\n",
       "    </tr>\n",
       "    <tr>\n",
       "      <th>25%</th>\n",
       "      <td>2018-09-30 00:00:00</td>\n",
       "      <td>70.000000</td>\n",
       "      <td>7.001500e+04</td>\n",
       "      <td>6.756925e+04</td>\n",
       "      <td>26.000000</td>\n",
       "      <td>2.000000</td>\n",
       "      <td>5.800000</td>\n",
       "    </tr>\n",
       "    <tr>\n",
       "      <th>50%</th>\n",
       "      <td>2018-12-30 00:00:00</td>\n",
       "      <td>130.000000</td>\n",
       "      <td>1.303670e+05</td>\n",
       "      <td>1.351830e+05</td>\n",
       "      <td>53.000000</td>\n",
       "      <td>2.000000</td>\n",
       "      <td>7.400000</td>\n",
       "    </tr>\n",
       "    <tr>\n",
       "      <th>75%</th>\n",
       "      <td>2019-03-31 00:00:00</td>\n",
       "      <td>203.000000</td>\n",
       "      <td>2.030840e+05</td>\n",
       "      <td>2.026538e+05</td>\n",
       "      <td>87.000000</td>\n",
       "      <td>2.000000</td>\n",
       "      <td>8.800000</td>\n",
       "    </tr>\n",
       "    <tr>\n",
       "      <th>max</th>\n",
       "      <td>2019-06-30 00:00:00</td>\n",
       "      <td>272.000000</td>\n",
       "      <td>2.373711e+06</td>\n",
       "      <td>2.415841e+06</td>\n",
       "      <td>114.000000</td>\n",
       "      <td>200.000000</td>\n",
       "      <td>650.000000</td>\n",
       "    </tr>\n",
       "    <tr>\n",
       "      <th>std</th>\n",
       "      <td>NaN</td>\n",
       "      <td>76.787096</td>\n",
       "      <td>8.071528e+04</td>\n",
       "      <td>7.814772e+04</td>\n",
       "      <td>33.695428</td>\n",
       "      <td>0.659831</td>\n",
       "      <td>3.077828</td>\n",
       "    </tr>\n",
       "  </tbody>\n",
       "</table>\n",
       "</div>"
      ],
      "text/plain": [
       "                                DATE      STORE_NBR  LYLTY_CARD_NBR  \\\n",
       "count                         246742  246742.000000    2.467420e+05   \n",
       "mean   2018-12-30 01:19:01.211467520     135.051098    1.355310e+05   \n",
       "min              2018-07-01 00:00:00       1.000000    1.000000e+03   \n",
       "25%              2018-09-30 00:00:00      70.000000    7.001500e+04   \n",
       "50%              2018-12-30 00:00:00     130.000000    1.303670e+05   \n",
       "75%              2019-03-31 00:00:00     203.000000    2.030840e+05   \n",
       "max              2019-06-30 00:00:00     272.000000    2.373711e+06   \n",
       "std                              NaN      76.787096    8.071528e+04   \n",
       "\n",
       "             TXN_ID       PROD_NBR       PROD_QTY      TOT_SALES  \n",
       "count  2.467420e+05  246742.000000  246742.000000  246742.000000  \n",
       "mean   1.351311e+05      56.351789       1.908062       7.321322  \n",
       "min    1.000000e+00       1.000000       1.000000       1.700000  \n",
       "25%    6.756925e+04      26.000000       2.000000       5.800000  \n",
       "50%    1.351830e+05      53.000000       2.000000       7.400000  \n",
       "75%    2.026538e+05      87.000000       2.000000       8.800000  \n",
       "max    2.415841e+06     114.000000     200.000000     650.000000  \n",
       "std    7.814772e+04      33.695428       0.659831       3.077828  "
      ]
     },
     "execution_count": 18,
     "metadata": {},
     "output_type": "execute_result"
    }
   ],
   "source": [
    "transaction.describe()"
   ]
  },
  {
   "cell_type": "markdown",
   "id": "c50f634a-55b5-402e-8c0f-e6c73ed09d8b",
   "metadata": {},
   "source": [
    "**Product quantity appears to have an outlier which we should investigate further. Let's investigate further the case where 200 packets of chips are bought in one transaction.**"
   ]
  },
  {
   "cell_type": "code",
   "execution_count": 19,
   "id": "f0aaaac9-2344-4ffd-953e-e6ce24a8b806",
   "metadata": {},
   "outputs": [
    {
     "data": {
      "text/html": [
       "<div>\n",
       "<style scoped>\n",
       "    .dataframe tbody tr th:only-of-type {\n",
       "        vertical-align: middle;\n",
       "    }\n",
       "\n",
       "    .dataframe tbody tr th {\n",
       "        vertical-align: top;\n",
       "    }\n",
       "\n",
       "    .dataframe thead th {\n",
       "        text-align: right;\n",
       "    }\n",
       "</style>\n",
       "<table border=\"1\" class=\"dataframe\">\n",
       "  <thead>\n",
       "    <tr style=\"text-align: right;\">\n",
       "      <th></th>\n",
       "      <th>DATE</th>\n",
       "      <th>STORE_NBR</th>\n",
       "      <th>LYLTY_CARD_NBR</th>\n",
       "      <th>TXN_ID</th>\n",
       "      <th>PROD_NBR</th>\n",
       "      <th>PROD_NAME</th>\n",
       "      <th>PROD_QTY</th>\n",
       "      <th>TOT_SALES</th>\n",
       "    </tr>\n",
       "  </thead>\n",
       "  <tbody>\n",
       "    <tr>\n",
       "      <th>69762</th>\n",
       "      <td>2018-08-19</td>\n",
       "      <td>226</td>\n",
       "      <td>226000</td>\n",
       "      <td>226201</td>\n",
       "      <td>4</td>\n",
       "      <td>Dorito Corn Chp     Supreme 380g</td>\n",
       "      <td>200</td>\n",
       "      <td>650.0</td>\n",
       "    </tr>\n",
       "    <tr>\n",
       "      <th>69763</th>\n",
       "      <td>2019-05-20</td>\n",
       "      <td>226</td>\n",
       "      <td>226000</td>\n",
       "      <td>226210</td>\n",
       "      <td>4</td>\n",
       "      <td>Dorito Corn Chp     Supreme 380g</td>\n",
       "      <td>200</td>\n",
       "      <td>650.0</td>\n",
       "    </tr>\n",
       "  </tbody>\n",
       "</table>\n",
       "</div>"
      ],
      "text/plain": [
       "            DATE  STORE_NBR  LYLTY_CARD_NBR  TXN_ID  PROD_NBR  \\\n",
       "69762 2018-08-19        226          226000  226201         4   \n",
       "69763 2019-05-20        226          226000  226210         4   \n",
       "\n",
       "                              PROD_NAME  PROD_QTY  TOT_SALES  \n",
       "69762  Dorito Corn Chp     Supreme 380g       200      650.0  \n",
       "69763  Dorito Corn Chp     Supreme 380g       200      650.0  "
      ]
     },
     "execution_count": 19,
     "metadata": {},
     "output_type": "execute_result"
    }
   ],
   "source": [
    "transaction[transaction['PROD_QTY']==200]"
   ]
  },
  {
   "cell_type": "markdown",
   "id": "979218c7-8c34-4b4c-915c-7c2fefaebbd2",
   "metadata": {},
   "source": [
    "**There are two transactions where 200 packets of chips are bought in one transaction and both of these transactions were by the same customer.**"
   ]
  },
  {
   "cell_type": "markdown",
   "id": "319923f8-e8c1-4e5c-90af-d7031fc7b194",
   "metadata": {},
   "source": [
    "**Let's see if the customer has had other transactions**"
   ]
  },
  {
   "cell_type": "code",
   "execution_count": 20,
   "id": "5c796dd8-5f18-417b-98bb-a4937dfaaba5",
   "metadata": {},
   "outputs": [
    {
     "data": {
      "text/html": [
       "<div>\n",
       "<style scoped>\n",
       "    .dataframe tbody tr th:only-of-type {\n",
       "        vertical-align: middle;\n",
       "    }\n",
       "\n",
       "    .dataframe tbody tr th {\n",
       "        vertical-align: top;\n",
       "    }\n",
       "\n",
       "    .dataframe thead th {\n",
       "        text-align: right;\n",
       "    }\n",
       "</style>\n",
       "<table border=\"1\" class=\"dataframe\">\n",
       "  <thead>\n",
       "    <tr style=\"text-align: right;\">\n",
       "      <th></th>\n",
       "      <th>DATE</th>\n",
       "      <th>STORE_NBR</th>\n",
       "      <th>LYLTY_CARD_NBR</th>\n",
       "      <th>TXN_ID</th>\n",
       "      <th>PROD_NBR</th>\n",
       "      <th>PROD_NAME</th>\n",
       "      <th>PROD_QTY</th>\n",
       "      <th>TOT_SALES</th>\n",
       "    </tr>\n",
       "  </thead>\n",
       "  <tbody>\n",
       "    <tr>\n",
       "      <th>69762</th>\n",
       "      <td>2018-08-19</td>\n",
       "      <td>226</td>\n",
       "      <td>226000</td>\n",
       "      <td>226201</td>\n",
       "      <td>4</td>\n",
       "      <td>Dorito Corn Chp     Supreme 380g</td>\n",
       "      <td>200</td>\n",
       "      <td>650.0</td>\n",
       "    </tr>\n",
       "    <tr>\n",
       "      <th>69763</th>\n",
       "      <td>2019-05-20</td>\n",
       "      <td>226</td>\n",
       "      <td>226000</td>\n",
       "      <td>226210</td>\n",
       "      <td>4</td>\n",
       "      <td>Dorito Corn Chp     Supreme 380g</td>\n",
       "      <td>200</td>\n",
       "      <td>650.0</td>\n",
       "    </tr>\n",
       "  </tbody>\n",
       "</table>\n",
       "</div>"
      ],
      "text/plain": [
       "            DATE  STORE_NBR  LYLTY_CARD_NBR  TXN_ID  PROD_NBR  \\\n",
       "69762 2018-08-19        226          226000  226201         4   \n",
       "69763 2019-05-20        226          226000  226210         4   \n",
       "\n",
       "                              PROD_NAME  PROD_QTY  TOT_SALES  \n",
       "69762  Dorito Corn Chp     Supreme 380g       200      650.0  \n",
       "69763  Dorito Corn Chp     Supreme 380g       200      650.0  "
      ]
     },
     "execution_count": 20,
     "metadata": {},
     "output_type": "execute_result"
    }
   ],
   "source": [
    "transaction[transaction['LYLTY_CARD_NBR']==226000]"
   ]
  },
  {
   "cell_type": "markdown",
   "id": "3c5219c7-d2b5-489a-a78c-76944511b1af",
   "metadata": {},
   "source": [
    "**This customer has only had the two transactions over the year and is not an ordinary retail customer. The customer might be buying chips for commercial purposes instead. We'll remove this loyalty card number from further analysis.**"
   ]
  },
  {
   "cell_type": "code",
   "execution_count": 21,
   "id": "1cff467d-ce4d-4180-a545-3095254469f6",
   "metadata": {},
   "outputs": [],
   "source": [
    "# transaction[~transaction['LYLTY_CARD_NBR']==226000]"
   ]
  },
  {
   "cell_type": "code",
   "execution_count": 22,
   "id": "e8f803de-8c83-42de-af0d-92516b7783ac",
   "metadata": {},
   "outputs": [],
   "source": [
    "# Filter out the customer based on the loyalty card number\n",
    "transaction = transaction[transaction['LYLTY_CARD_NBR']!=226000]"
   ]
  },
  {
   "cell_type": "code",
   "execution_count": 23,
   "id": "bf318530-bc89-4f1c-b966-c20fe007fa13",
   "metadata": {},
   "outputs": [
    {
     "data": {
      "text/html": [
       "<div>\n",
       "<style scoped>\n",
       "    .dataframe tbody tr th:only-of-type {\n",
       "        vertical-align: middle;\n",
       "    }\n",
       "\n",
       "    .dataframe tbody tr th {\n",
       "        vertical-align: top;\n",
       "    }\n",
       "\n",
       "    .dataframe thead th {\n",
       "        text-align: right;\n",
       "    }\n",
       "</style>\n",
       "<table border=\"1\" class=\"dataframe\">\n",
       "  <thead>\n",
       "    <tr style=\"text-align: right;\">\n",
       "      <th></th>\n",
       "      <th>DATE</th>\n",
       "      <th>STORE_NBR</th>\n",
       "      <th>LYLTY_CARD_NBR</th>\n",
       "      <th>TXN_ID</th>\n",
       "      <th>PROD_NBR</th>\n",
       "      <th>PROD_QTY</th>\n",
       "      <th>TOT_SALES</th>\n",
       "    </tr>\n",
       "  </thead>\n",
       "  <tbody>\n",
       "    <tr>\n",
       "      <th>count</th>\n",
       "      <td>246740</td>\n",
       "      <td>246740.000000</td>\n",
       "      <td>2.467400e+05</td>\n",
       "      <td>2.467400e+05</td>\n",
       "      <td>246740.000000</td>\n",
       "      <td>246740.000000</td>\n",
       "      <td>246740.000000</td>\n",
       "    </tr>\n",
       "    <tr>\n",
       "      <th>mean</th>\n",
       "      <td>2018-12-30 01:18:58.448569344</td>\n",
       "      <td>135.050361</td>\n",
       "      <td>1.355303e+05</td>\n",
       "      <td>1.351304e+05</td>\n",
       "      <td>56.352213</td>\n",
       "      <td>1.906456</td>\n",
       "      <td>7.316113</td>\n",
       "    </tr>\n",
       "    <tr>\n",
       "      <th>min</th>\n",
       "      <td>2018-07-01 00:00:00</td>\n",
       "      <td>1.000000</td>\n",
       "      <td>1.000000e+03</td>\n",
       "      <td>1.000000e+00</td>\n",
       "      <td>1.000000</td>\n",
       "      <td>1.000000</td>\n",
       "      <td>1.700000</td>\n",
       "    </tr>\n",
       "    <tr>\n",
       "      <th>25%</th>\n",
       "      <td>2018-09-30 00:00:00</td>\n",
       "      <td>70.000000</td>\n",
       "      <td>7.001500e+04</td>\n",
       "      <td>6.756875e+04</td>\n",
       "      <td>26.000000</td>\n",
       "      <td>2.000000</td>\n",
       "      <td>5.800000</td>\n",
       "    </tr>\n",
       "    <tr>\n",
       "      <th>50%</th>\n",
       "      <td>2018-12-30 00:00:00</td>\n",
       "      <td>130.000000</td>\n",
       "      <td>1.303670e+05</td>\n",
       "      <td>1.351815e+05</td>\n",
       "      <td>53.000000</td>\n",
       "      <td>2.000000</td>\n",
       "      <td>7.400000</td>\n",
       "    </tr>\n",
       "    <tr>\n",
       "      <th>75%</th>\n",
       "      <td>2019-03-31 00:00:00</td>\n",
       "      <td>203.000000</td>\n",
       "      <td>2.030832e+05</td>\n",
       "      <td>2.026522e+05</td>\n",
       "      <td>87.000000</td>\n",
       "      <td>2.000000</td>\n",
       "      <td>8.800000</td>\n",
       "    </tr>\n",
       "    <tr>\n",
       "      <th>max</th>\n",
       "      <td>2019-06-30 00:00:00</td>\n",
       "      <td>272.000000</td>\n",
       "      <td>2.373711e+06</td>\n",
       "      <td>2.415841e+06</td>\n",
       "      <td>114.000000</td>\n",
       "      <td>5.000000</td>\n",
       "      <td>29.500000</td>\n",
       "    </tr>\n",
       "    <tr>\n",
       "      <th>std</th>\n",
       "      <td>NaN</td>\n",
       "      <td>76.786971</td>\n",
       "      <td>8.071520e+04</td>\n",
       "      <td>7.814760e+04</td>\n",
       "      <td>33.695235</td>\n",
       "      <td>0.342499</td>\n",
       "      <td>2.474897</td>\n",
       "    </tr>\n",
       "  </tbody>\n",
       "</table>\n",
       "</div>"
      ],
      "text/plain": [
       "                                DATE      STORE_NBR  LYLTY_CARD_NBR  \\\n",
       "count                         246740  246740.000000    2.467400e+05   \n",
       "mean   2018-12-30 01:18:58.448569344     135.050361    1.355303e+05   \n",
       "min              2018-07-01 00:00:00       1.000000    1.000000e+03   \n",
       "25%              2018-09-30 00:00:00      70.000000    7.001500e+04   \n",
       "50%              2018-12-30 00:00:00     130.000000    1.303670e+05   \n",
       "75%              2019-03-31 00:00:00     203.000000    2.030832e+05   \n",
       "max              2019-06-30 00:00:00     272.000000    2.373711e+06   \n",
       "std                              NaN      76.786971    8.071520e+04   \n",
       "\n",
       "             TXN_ID       PROD_NBR       PROD_QTY      TOT_SALES  \n",
       "count  2.467400e+05  246740.000000  246740.000000  246740.000000  \n",
       "mean   1.351304e+05      56.352213       1.906456       7.316113  \n",
       "min    1.000000e+00       1.000000       1.000000       1.700000  \n",
       "25%    6.756875e+04      26.000000       2.000000       5.800000  \n",
       "50%    1.351815e+05      53.000000       2.000000       7.400000  \n",
       "75%    2.026522e+05      87.000000       2.000000       8.800000  \n",
       "max    2.415841e+06     114.000000       5.000000      29.500000  \n",
       "std    7.814760e+04      33.695235       0.342499       2.474897  "
      ]
     },
     "metadata": {},
     "output_type": "display_data"
    },
    {
     "name": "stdout",
     "output_type": "stream",
     "text": [
      "<class 'pandas.core.frame.DataFrame'>\n",
      "Index: 246740 entries, 0 to 264835\n",
      "Data columns (total 8 columns):\n",
      " #   Column          Non-Null Count   Dtype         \n",
      "---  ------          --------------   -----         \n",
      " 0   DATE            246740 non-null  datetime64[ns]\n",
      " 1   STORE_NBR       246740 non-null  int64         \n",
      " 2   LYLTY_CARD_NBR  246740 non-null  int64         \n",
      " 3   TXN_ID          246740 non-null  int64         \n",
      " 4   PROD_NBR        246740 non-null  int64         \n",
      " 5   PROD_NAME       246740 non-null  object        \n",
      " 6   PROD_QTY        246740 non-null  int64         \n",
      " 7   TOT_SALES       246740 non-null  float64       \n",
      "dtypes: datetime64[ns](1), float64(1), int64(5), object(1)\n",
      "memory usage: 16.9+ MB\n"
     ]
    },
    {
     "data": {
      "text/plain": [
       "None"
      ]
     },
     "metadata": {},
     "output_type": "display_data"
    }
   ],
   "source": [
    "# Re-examine transaction data\n",
    "display(transaction.describe())\n",
    "display(transaction.info())"
   ]
  },
  {
   "cell_type": "markdown",
   "id": "e9c48af6-76da-4560-9ab1-f1c1f01bfa29",
   "metadata": {},
   "source": [
    "**let's look at the number of transaction lines over time to see if there are any obvious data issues such as missing data.**"
   ]
  },
  {
   "cell_type": "code",
   "execution_count": 24,
   "id": "82ab80c3-dc68-4525-8c5a-7d7b92202e60",
   "metadata": {},
   "outputs": [
    {
     "data": {
      "text/plain": [
       "DATE\n",
       "2018-07-01    663\n",
       "2018-07-02    650\n",
       "2018-07-03    674\n",
       "2018-07-04    669\n",
       "2018-07-05    660\n",
       "             ... \n",
       "2019-06-26    657\n",
       "2019-06-27    669\n",
       "2019-06-28    673\n",
       "2019-06-29    703\n",
       "2019-06-30    704\n",
       "Length: 364, dtype: int64"
      ]
     },
     "execution_count": 24,
     "metadata": {},
     "output_type": "execute_result"
    }
   ],
   "source": [
    "# Count the number of transactions by date\n",
    "date_counts = transaction.groupby('DATE').size()\n",
    "date_counts"
   ]
  },
  {
   "cell_type": "markdown",
   "id": "7707f470-9c63-4fbb-862a-ca2363f6a411",
   "metadata": {},
   "source": [
    "**There's only 364 rows, meaning only 364 dates which indicates a missing date. Let's create a sequence of dates from 1 Jul 2018 to 30 Jun 2019 and use this to create a\n",
    "chart of number of transactions over time to find the missing date.**"
   ]
  },
  {
   "cell_type": "code",
   "execution_count": 25,
   "id": "501f9bf9-a847-4837-85a4-d7b9ab7b8c49",
   "metadata": {},
   "outputs": [],
   "source": [
    "start_date = '2018-07-01'\n",
    "end_date = '2019-06-30'\n",
    "date_range = pd.date_range(start=start_date, end=end_date)"
   ]
  },
  {
   "cell_type": "code",
   "execution_count": 26,
   "id": "bfd99aeb-79cd-4633-a8f2-88d4bdf091b3",
   "metadata": {},
   "outputs": [
    {
     "data": {
      "text/plain": [
       "pandas.core.indexes.datetimes.DatetimeIndex"
      ]
     },
     "execution_count": 26,
     "metadata": {},
     "output_type": "execute_result"
    }
   ],
   "source": [
    "type(date_range)"
   ]
  },
  {
   "cell_type": "code",
   "execution_count": 27,
   "id": "37fc1fb9-25c0-4d0a-ae96-47e54b59e695",
   "metadata": {},
   "outputs": [],
   "source": [
    "# all_dates = pd.DataFrame(date_range, columns=['DATE'])\n",
    "#merged_transaction=pd.merge(all_dates,transaction, on='DATE', how='left')\n",
    "#merged_transaction[merged_transaction['PROD_QTY'].isnull()]"
   ]
  },
  {
   "cell_type": "code",
   "execution_count": 28,
   "id": "40de141d-6212-4730-a6d7-62be1392e4e0",
   "metadata": {},
   "outputs": [
    {
     "data": {
      "text/plain": [
       "DatetimeIndex(['2018-12-25'], dtype='datetime64[ns]', freq=None)"
      ]
     },
     "execution_count": 28,
     "metadata": {},
     "output_type": "execute_result"
    }
   ],
   "source": [
    "date_range.difference(date_counts.index)"
   ]
  },
  {
   "cell_type": "markdown",
   "id": "b78bb2da-1861-4adc-97a3-47d8c9671e13",
   "metadata": {},
   "source": [
    "**We can see that there are zero sales on Christmas day itself. This is due to shops being closed on Christmas day.**"
   ]
  },
  {
   "cell_type": "markdown",
   "id": "e8588a15-c222-4f87-99e2-f7dfb4cf09d5",
   "metadata": {},
   "source": [
    "**Now that we are satisfied that the data no longer has outliers, we can move on to creating other features such as brand of chips or pack size from PROD_NAME. We will\n",
    "start with pack size.**"
   ]
  },
  {
   "cell_type": "code",
   "execution_count": 29,
   "id": "6d862ea2-78ee-466c-b364-5e3dcdc27648",
   "metadata": {},
   "outputs": [],
   "source": [
    "#Pack size\n",
    "transaction.insert(8, \"PACK_SIZE\", transaction['PROD_NAME'].str.extract('(\\d+)').astype(float), True)\n",
    "# pack_size = transaction['PROD_NAME'].str.extract('(\\d+)', expand=False).astype('float')\n",
    "# pack_size.sort_values()"
   ]
  },
  {
   "cell_type": "code",
   "execution_count": 30,
   "id": "3eee4a2b-f194-496d-8c3a-e27db702eb57",
   "metadata": {},
   "outputs": [
    {
     "data": {
      "text/plain": [
       "PACK_SIZE\n",
       "70.0      1507\n",
       "90.0      3008\n",
       "110.0    22387\n",
       "125.0     1454\n",
       "134.0    25102\n",
       "135.0     3257\n",
       "150.0    40203\n",
       "160.0     2970\n",
       "165.0    15297\n",
       "170.0    19983\n",
       "175.0    66390\n",
       "180.0     1468\n",
       "190.0     2995\n",
       "200.0     4473\n",
       "210.0     6272\n",
       "220.0     1564\n",
       "250.0     3169\n",
       "270.0     6285\n",
       "330.0    12540\n",
       "380.0     6416\n",
       "Name: count, dtype: int64"
      ]
     },
     "execution_count": 30,
     "metadata": {},
     "output_type": "execute_result"
    }
   ],
   "source": [
    "transaction['PACK_SIZE'].value_counts().sort_index()"
   ]
  },
  {
   "cell_type": "markdown",
   "id": "d2b613b7-1a40-46dd-b028-3ac6d976edb7",
   "metadata": {},
   "source": [
    "**The largest size is 380g and the smallest size is 70g - seems sensible**"
   ]
  },
  {
   "cell_type": "markdown",
   "id": "55dba2a9-dc61-449f-91c9-0675555569ba",
   "metadata": {},
   "source": [
    "**Let's plot a histogram of PACK_SIZE since we know that it is a categorical variable and not a continuous variable even though it is numeric.**"
   ]
  },
  {
   "cell_type": "code",
   "execution_count": 31,
   "id": "6ac55cad-0c7c-469c-beb3-54f6cb9064d8",
   "metadata": {},
   "outputs": [
    {
     "data": {
      "image/png": "[encoded data removed]",
      "text/plain": [
       "<Figure size 640x480 with 1 Axes>"
      ]
     },
     "metadata": {},
     "output_type": "display_data"
    }
   ],
   "source": [
    "# Plot a histogram to visualise distribution of pack sizes. \n",
    "plt.hist(transaction['PACK_SIZE'], weights=transaction['PROD_QTY'], edgecolor='white')\n",
    "plt.xlabel('Packet size (g)')\n",
    "plt.ylabel('Quantity')\n",
    "plt.gca().spines[['top','right','left']].set_visible(False)\n",
    "plt.tick_params(axis='y', length=0)\n",
    "plt.grid(axis='y', alpha=0.3) # linestyle='--'\n",
    "# plt.grid(True);"
   ]
  },
  {
   "cell_type": "code",
   "execution_count": 32,
   "id": "6fe025be-1130-4656-9563-53b1cf9afe9d",
   "metadata": {},
   "outputs": [
    {
     "data": {
      "text/plain": [
       "BRAND_NAME\n",
       "Kettle        41288\n",
       "Smiths        27390\n",
       "Pringles      25102\n",
       "Doritos       22041\n",
       "Thins         14075\n",
       "RRD           11894\n",
       "Infuzions     11057\n",
       "WW            10320\n",
       "Cobs           9693\n",
       "Tostitos       9471\n",
       "Twisties       9454\n",
       "Tyrrells       6442\n",
       "Grain          6272\n",
       "Natural        6050\n",
       "Cheezels       4603\n",
       "CCs            4551\n",
       "Red            4427\n",
       "Dorito         3183\n",
       "Infzns         3144\n",
       "Smith          2963\n",
       "Cheetos        2927\n",
       "Snbts          1576\n",
       "Burger         1564\n",
       "Woolworths     1516\n",
       "GrnWves        1468\n",
       "Sunbites       1432\n",
       "NCC            1419\n",
       "French         1418\n",
       "Name: count, dtype: int64"
      ]
     },
     "execution_count": 32,
     "metadata": {},
     "output_type": "execute_result"
    }
   ],
   "source": [
    "#Brand name:use the first word in PROD_NAME to work out the brand name\n",
    "transaction.insert(9, \"BRAND_NAME\",transaction['PROD_NAME'].str.split().str.get(0), True)\n",
    "#transaction['BRAND_NAME'] = transaction['PROD_NAME'].str.split().str[0]\n",
    "transaction['BRAND_NAME'].value_counts()"
   ]
  },
  {
   "cell_type": "code",
   "execution_count": 33,
   "id": "d5cbd95d-b742-4ade-b67d-6635067e051b",
   "metadata": {},
   "outputs": [
    {
     "data": {
      "text/plain": [
       "PROD_NAME\n",
       "[Grain, Waves]    6272\n",
       "Name: count, dtype: int64"
      ]
     },
     "execution_count": 33,
     "metadata": {},
     "output_type": "execute_result"
    }
   ],
   "source": [
    "# Grain and GrnWves are both Grain Waves chips.\n",
    "transaction[transaction['PROD_NAME'].str.contains('Grain')]['PROD_NAME'].str.split().str[:2].value_counts()"
   ]
  },
  {
   "cell_type": "code",
   "execution_count": 34,
   "id": "329ff8f9-cc2e-480a-a1fa-eecd706cef15",
   "metadata": {},
   "outputs": [
    {
     "data": {
      "text/plain": [
       "PROD_NAME\n",
       "[Natural, Chip, Co, Tmato]              1572\n",
       "[Natural, ChipCo, Sea, Salt]            1550\n",
       "[Natural, Chip, Compny, SeaSalt175g]    1468\n",
       "[Natural, ChipCo, Hony, Soy]            1460\n",
       "[NCC, Sour, Cream, &]                   1419\n",
       "Name: count, dtype: int64"
      ]
     },
     "execution_count": 34,
     "metadata": {},
     "output_type": "execute_result"
    }
   ],
   "source": [
    "# NCC and Natural are both Natural Chip Co.\n",
    "transaction[transaction['PROD_NAME'].str.contains('NCC|Natural')]['PROD_NAME'].str.split().str[:4].value_counts()"
   ]
  },
  {
   "cell_type": "code",
   "execution_count": 35,
   "id": "27fee782-f924-49ab-acdd-5c93ca4a7930",
   "metadata": {},
   "outputs": [],
   "source": [
    "# Red and RRD are both Red Rock Deli chips. So do Smiths and Smith, Dorito and Doritos, and... Let's combine these together.\n",
    "transaction['BRAND_NAME'].replace({'Red':'Red Rock Deli', 'RRD':'Red Rock Deli', 'Smith':'Smiths','Dorito':'Doritos','Snbts':'Sunbites','Infzns':'Infuzions','WW':'Woolworths',\n",
    "                                  'Grain':'Grain Waves', 'GrnWves':'Grain Waves','Natural':'Natural Chip Co', 'NCC':'Natural Chip Co'}, inplace=True)"
   ]
  },
  {
   "cell_type": "code",
   "execution_count": 36,
   "id": "58665fd8-f331-489f-9085-5ef684272408",
   "metadata": {},
   "outputs": [
    {
     "data": {
      "text/plain": [
       "BRAND_NAME\n",
       "Kettle             41288\n",
       "Smiths             30353\n",
       "Doritos            25224\n",
       "Pringles           25102\n",
       "Red Rock Deli      16321\n",
       "Infuzions          14201\n",
       "Thins              14075\n",
       "Woolworths         11836\n",
       "Cobs                9693\n",
       "Tostitos            9471\n",
       "Twisties            9454\n",
       "Grain Waves         7740\n",
       "Natural Chip Co     7469\n",
       "Tyrrells            6442\n",
       "Cheezels            4603\n",
       "CCs                 4551\n",
       "Sunbites            3008\n",
       "Cheetos             2927\n",
       "Burger              1564\n",
       "French              1418\n",
       "Name: count, dtype: int64"
      ]
     },
     "execution_count": 36,
     "metadata": {},
     "output_type": "execute_result"
    }
   ],
   "source": [
    "transaction['BRAND_NAME'].value_counts()"
   ]
  },
  {
   "cell_type": "markdown",
   "id": "ac0c82e2-6f6f-4bd1-8574-afa55e493eb1",
   "metadata": {},
   "source": [
    "### Examining customer data"
   ]
  },
  {
   "cell_type": "code",
   "execution_count": 37,
   "id": "9e6d13a3-20f8-49d9-a852-60965efcebfb",
   "metadata": {},
   "outputs": [
    {
     "name": "stdout",
     "output_type": "stream",
     "text": [
      "<class 'pandas.core.frame.DataFrame'>\n",
      "RangeIndex: 72637 entries, 0 to 72636\n",
      "Data columns (total 3 columns):\n",
      " #   Column            Non-Null Count  Dtype \n",
      "---  ------            --------------  ----- \n",
      " 0   LYLTY_CARD_NBR    72637 non-null  int64 \n",
      " 1   LIFESTAGE         72637 non-null  object\n",
      " 2   PREMIUM_CUSTOMER  72637 non-null  object\n",
      "dtypes: int64(1), object(2)\n",
      "memory usage: 1.7+ MB\n"
     ]
    }
   ],
   "source": [
    "customer.info()"
   ]
  },
  {
   "cell_type": "code",
   "execution_count": 38,
   "id": "976932a9-57e6-4887-a73b-0a8c5c3d9b75",
   "metadata": {},
   "outputs": [
    {
     "data": {
      "text/html": [
       "<div>\n",
       "<style scoped>\n",
       "    .dataframe tbody tr th:only-of-type {\n",
       "        vertical-align: middle;\n",
       "    }\n",
       "\n",
       "    .dataframe tbody tr th {\n",
       "        vertical-align: top;\n",
       "    }\n",
       "\n",
       "    .dataframe thead th {\n",
       "        text-align: right;\n",
       "    }\n",
       "</style>\n",
       "<table border=\"1\" class=\"dataframe\">\n",
       "  <thead>\n",
       "    <tr style=\"text-align: right;\">\n",
       "      <th></th>\n",
       "      <th>LYLTY_CARD_NBR</th>\n",
       "      <th>LIFESTAGE</th>\n",
       "      <th>PREMIUM_CUSTOMER</th>\n",
       "    </tr>\n",
       "  </thead>\n",
       "  <tbody>\n",
       "    <tr>\n",
       "      <th>0</th>\n",
       "      <td>1000</td>\n",
       "      <td>YOUNG SINGLES/COUPLES</td>\n",
       "      <td>Premium</td>\n",
       "    </tr>\n",
       "    <tr>\n",
       "      <th>1</th>\n",
       "      <td>1002</td>\n",
       "      <td>YOUNG SINGLES/COUPLES</td>\n",
       "      <td>Mainstream</td>\n",
       "    </tr>\n",
       "    <tr>\n",
       "      <th>2</th>\n",
       "      <td>1003</td>\n",
       "      <td>YOUNG FAMILIES</td>\n",
       "      <td>Budget</td>\n",
       "    </tr>\n",
       "    <tr>\n",
       "      <th>3</th>\n",
       "      <td>1004</td>\n",
       "      <td>OLDER SINGLES/COUPLES</td>\n",
       "      <td>Mainstream</td>\n",
       "    </tr>\n",
       "    <tr>\n",
       "      <th>4</th>\n",
       "      <td>1005</td>\n",
       "      <td>MIDAGE SINGLES/COUPLES</td>\n",
       "      <td>Mainstream</td>\n",
       "    </tr>\n",
       "  </tbody>\n",
       "</table>\n",
       "</div>"
      ],
      "text/plain": [
       "   LYLTY_CARD_NBR               LIFESTAGE PREMIUM_CUSTOMER\n",
       "0            1000   YOUNG SINGLES/COUPLES          Premium\n",
       "1            1002   YOUNG SINGLES/COUPLES       Mainstream\n",
       "2            1003          YOUNG FAMILIES           Budget\n",
       "3            1004   OLDER SINGLES/COUPLES       Mainstream\n",
       "4            1005  MIDAGE SINGLES/COUPLES       Mainstream"
      ]
     },
     "execution_count": 38,
     "metadata": {},
     "output_type": "execute_result"
    }
   ],
   "source": [
    "customer.head()"
   ]
  },
  {
   "cell_type": "code",
   "execution_count": 39,
   "id": "fce3d89c-78c8-4ce8-be6b-16281c1a6bc1",
   "metadata": {},
   "outputs": [
    {
     "data": {
      "text/plain": [
       "PREMIUM_CUSTOMER\n",
       "Mainstream    29245\n",
       "Budget        24470\n",
       "Premium       18922\n",
       "Name: count, dtype: int64"
      ]
     },
     "execution_count": 39,
     "metadata": {},
     "output_type": "execute_result"
    }
   ],
   "source": [
    "customer['PREMIUM_CUSTOMER'].value_counts()"
   ]
  },
  {
   "cell_type": "code",
   "execution_count": 40,
   "id": "b22389c2-aaf9-4fc7-af50-db840baa2fd2",
   "metadata": {},
   "outputs": [
    {
     "data": {
      "text/plain": [
       "LIFESTAGE\n",
       "RETIREES                  14805\n",
       "OLDER SINGLES/COUPLES     14609\n",
       "YOUNG SINGLES/COUPLES     14441\n",
       "OLDER FAMILIES             9780\n",
       "YOUNG FAMILIES             9178\n",
       "MIDAGE SINGLES/COUPLES     7275\n",
       "NEW FAMILIES               2549\n",
       "Name: count, dtype: int64"
      ]
     },
     "execution_count": 40,
     "metadata": {},
     "output_type": "execute_result"
    }
   ],
   "source": [
    "customer['LIFESTAGE'].value_counts()"
   ]
  },
  {
   "cell_type": "markdown",
   "id": "6a1a3221-9d07-46b8-bc1a-dd21124217d1",
   "metadata": {},
   "source": [
    "**There are no nulls or inconsistencies in any of the columns.**"
   ]
  },
  {
   "cell_type": "markdown",
   "id": "f85ca7d4-df0c-4fa0-9172-1f84f0fe2e38",
   "metadata": {},
   "source": [
    "### Merge transaction data to customer data"
   ]
  },
  {
   "cell_type": "code",
   "execution_count": 41,
   "id": "09a71334-722a-4046-8484-aaf4da60257f",
   "metadata": {},
   "outputs": [],
   "source": [
    "merged_data = pd.merge(transaction, customer, on='LYLTY_CARD_NBR', how='left')"
   ]
  },
  {
   "cell_type": "code",
   "execution_count": 42,
   "id": "9b2921e7-b4b0-46a4-929e-236373147af8",
   "metadata": {},
   "outputs": [
    {
     "name": "stdout",
     "output_type": "stream",
     "text": [
      "<class 'pandas.core.frame.DataFrame'>\n",
      "RangeIndex: 246740 entries, 0 to 246739\n",
      "Data columns (total 12 columns):\n",
      " #   Column            Non-Null Count   Dtype         \n",
      "---  ------            --------------   -----         \n",
      " 0   DATE              246740 non-null  datetime64[ns]\n",
      " 1   STORE_NBR         246740 non-null  int64         \n",
      " 2   LYLTY_CARD_NBR    246740 non-null  int64         \n",
      " 3   TXN_ID            246740 non-null  int64         \n",
      " 4   PROD_NBR          246740 non-null  int64         \n",
      " 5   PROD_NAME         246740 non-null  object        \n",
      " 6   PROD_QTY          246740 non-null  int64         \n",
      " 7   TOT_SALES         246740 non-null  float64       \n",
      " 8   PACK_SIZE         246740 non-null  float64       \n",
      " 9   BRAND_NAME        246740 non-null  object        \n",
      " 10  LIFESTAGE         246740 non-null  object        \n",
      " 11  PREMIUM_CUSTOMER  246740 non-null  object        \n",
      "dtypes: datetime64[ns](1), float64(2), int64(5), object(4)\n",
      "memory usage: 22.6+ MB\n"
     ]
    }
   ],
   "source": [
    "merged_data.info()"
   ]
  },
  {
   "cell_type": "markdown",
   "id": "940b1328-0122-4630-b532-9d2edbff0d6e",
   "metadata": {},
   "source": [
    "**As the number of rows in `merged` is the same as that of `transaction`, we can be sure that no duplicates were created.** "
   ]
  },
  {
   "cell_type": "markdown",
   "id": "81b2f3d0-8b90-44c1-a068-53d46f33a539",
   "metadata": {},
   "source": [
    "**Let's also check if some customers were not matched on by checking for nulls.**"
   ]
  },
  {
   "cell_type": "code",
   "execution_count": 43,
   "id": "2bbcd62f-dd83-4319-8017-268eb05516a2",
   "metadata": {},
   "outputs": [
    {
     "data": {
      "text/plain": [
       "0"
      ]
     },
     "execution_count": 43,
     "metadata": {},
     "output_type": "execute_result"
    }
   ],
   "source": [
    "merged_data['LIFESTAGE'].isnull().sum() #See if any transactions did not have a matched customer."
   ]
  },
  {
   "cell_type": "markdown",
   "id": "87221bdf-f5e1-43c4-ae8c-7da1c5972b6f",
   "metadata": {},
   "source": [
    "**Code to save dataset as a csv**"
   ]
  },
  {
   "cell_type": "code",
   "execution_count": 44,
   "id": "b08631ad-de84-4f98-8f61-b536725c41cc",
   "metadata": {},
   "outputs": [],
   "source": [
    "merged_data.to_csv(\"merged_data.csv\", index=False)"
   ]
  },
  {
   "cell_type": "markdown",
   "id": "49fb028e-0af4-43e8-b13d-a9841ffb6b83",
   "metadata": {},
   "source": [
    "**Data exploration is now complete.**"
   ]
  },
  {
   "cell_type": "markdown",
   "id": "d9fbcc9b-2b15-4d86-bdc4-3cfaa7b0ae5b",
   "metadata": {},
   "source": [
    "## Data analysis on customer segments "
   ]
  },
  {
   "cell_type": "code",
   "execution_count": 45,
   "id": "0645f123-ff95-4f43-99d4-a835f8896a23",
   "metadata": {},
   "outputs": [
    {
     "data": {
      "text/html": [
       "<div>\n",
       "<style scoped>\n",
       "    .dataframe tbody tr th:only-of-type {\n",
       "        vertical-align: middle;\n",
       "    }\n",
       "\n",
       "    .dataframe tbody tr th {\n",
       "        vertical-align: top;\n",
       "    }\n",
       "\n",
       "    .dataframe thead th {\n",
       "        text-align: right;\n",
       "    }\n",
       "</style>\n",
       "<table border=\"1\" class=\"dataframe\">\n",
       "  <thead>\n",
       "    <tr style=\"text-align: right;\">\n",
       "      <th></th>\n",
       "      <th>DATE</th>\n",
       "      <th>STORE_NBR</th>\n",
       "      <th>LYLTY_CARD_NBR</th>\n",
       "      <th>TXN_ID</th>\n",
       "      <th>PROD_NBR</th>\n",
       "      <th>PROD_NAME</th>\n",
       "      <th>PROD_QTY</th>\n",
       "      <th>TOT_SALES</th>\n",
       "      <th>PACK_SIZE</th>\n",
       "      <th>BRAND_NAME</th>\n",
       "      <th>LIFESTAGE</th>\n",
       "      <th>PREMIUM_CUSTOMER</th>\n",
       "    </tr>\n",
       "  </thead>\n",
       "  <tbody>\n",
       "    <tr>\n",
       "      <th>0</th>\n",
       "      <td>2018-10-17</td>\n",
       "      <td>1</td>\n",
       "      <td>1000</td>\n",
       "      <td>1</td>\n",
       "      <td>5</td>\n",
       "      <td>Natural Chip        Compny SeaSalt175g</td>\n",
       "      <td>2</td>\n",
       "      <td>6.0</td>\n",
       "      <td>175.0</td>\n",
       "      <td>Natural Chip Co</td>\n",
       "      <td>YOUNG SINGLES/COUPLES</td>\n",
       "      <td>Premium</td>\n",
       "    </tr>\n",
       "    <tr>\n",
       "      <th>1</th>\n",
       "      <td>2019-05-14</td>\n",
       "      <td>1</td>\n",
       "      <td>1307</td>\n",
       "      <td>348</td>\n",
       "      <td>66</td>\n",
       "      <td>CCs Nacho Cheese    175g</td>\n",
       "      <td>3</td>\n",
       "      <td>6.3</td>\n",
       "      <td>175.0</td>\n",
       "      <td>CCs</td>\n",
       "      <td>MIDAGE SINGLES/COUPLES</td>\n",
       "      <td>Budget</td>\n",
       "    </tr>\n",
       "    <tr>\n",
       "      <th>2</th>\n",
       "      <td>2019-05-20</td>\n",
       "      <td>1</td>\n",
       "      <td>1343</td>\n",
       "      <td>383</td>\n",
       "      <td>61</td>\n",
       "      <td>Smiths Crinkle Cut  Chips Chicken 170g</td>\n",
       "      <td>2</td>\n",
       "      <td>2.9</td>\n",
       "      <td>170.0</td>\n",
       "      <td>Smiths</td>\n",
       "      <td>MIDAGE SINGLES/COUPLES</td>\n",
       "      <td>Budget</td>\n",
       "    </tr>\n",
       "    <tr>\n",
       "      <th>3</th>\n",
       "      <td>2018-08-17</td>\n",
       "      <td>2</td>\n",
       "      <td>2373</td>\n",
       "      <td>974</td>\n",
       "      <td>69</td>\n",
       "      <td>Smiths Chip Thinly  S/Cream&amp;Onion 175g</td>\n",
       "      <td>5</td>\n",
       "      <td>15.0</td>\n",
       "      <td>175.0</td>\n",
       "      <td>Smiths</td>\n",
       "      <td>MIDAGE SINGLES/COUPLES</td>\n",
       "      <td>Budget</td>\n",
       "    </tr>\n",
       "    <tr>\n",
       "      <th>4</th>\n",
       "      <td>2018-08-18</td>\n",
       "      <td>2</td>\n",
       "      <td>2426</td>\n",
       "      <td>1038</td>\n",
       "      <td>108</td>\n",
       "      <td>Kettle Tortilla ChpsHny&amp;Jlpno Chili 150g</td>\n",
       "      <td>3</td>\n",
       "      <td>13.8</td>\n",
       "      <td>150.0</td>\n",
       "      <td>Kettle</td>\n",
       "      <td>MIDAGE SINGLES/COUPLES</td>\n",
       "      <td>Budget</td>\n",
       "    </tr>\n",
       "  </tbody>\n",
       "</table>\n",
       "</div>"
      ],
      "text/plain": [
       "        DATE  STORE_NBR  LYLTY_CARD_NBR  TXN_ID  PROD_NBR  \\\n",
       "0 2018-10-17          1            1000       1         5   \n",
       "1 2019-05-14          1            1307     348        66   \n",
       "2 2019-05-20          1            1343     383        61   \n",
       "3 2018-08-17          2            2373     974        69   \n",
       "4 2018-08-18          2            2426    1038       108   \n",
       "\n",
       "                                  PROD_NAME  PROD_QTY  TOT_SALES  PACK_SIZE  \\\n",
       "0    Natural Chip        Compny SeaSalt175g         2        6.0      175.0   \n",
       "1                  CCs Nacho Cheese    175g         3        6.3      175.0   \n",
       "2    Smiths Crinkle Cut  Chips Chicken 170g         2        2.9      170.0   \n",
       "3    Smiths Chip Thinly  S/Cream&Onion 175g         5       15.0      175.0   \n",
       "4  Kettle Tortilla ChpsHny&Jlpno Chili 150g         3       13.8      150.0   \n",
       "\n",
       "        BRAND_NAME               LIFESTAGE PREMIUM_CUSTOMER  \n",
       "0  Natural Chip Co   YOUNG SINGLES/COUPLES          Premium  \n",
       "1              CCs  MIDAGE SINGLES/COUPLES           Budget  \n",
       "2           Smiths  MIDAGE SINGLES/COUPLES           Budget  \n",
       "3           Smiths  MIDAGE SINGLES/COUPLES           Budget  \n",
       "4           Kettle  MIDAGE SINGLES/COUPLES           Budget  "
      ]
     },
     "execution_count": 45,
     "metadata": {},
     "output_type": "execute_result"
    }
   ],
   "source": [
    "merged_data.head()"
   ]
  },
  {
   "cell_type": "code",
   "execution_count": 46,
   "id": "84670fed-4c6b-4b41-bb22-4f1cfbe9d154",
   "metadata": {},
   "outputs": [
    {
     "data": {
      "text/html": [
       "<div>\n",
       "<style scoped>\n",
       "    .dataframe tbody tr th:only-of-type {\n",
       "        vertical-align: middle;\n",
       "    }\n",
       "\n",
       "    .dataframe tbody tr th {\n",
       "        vertical-align: top;\n",
       "    }\n",
       "\n",
       "    .dataframe thead th {\n",
       "        text-align: right;\n",
       "    }\n",
       "</style>\n",
       "<table border=\"1\" class=\"dataframe\">\n",
       "  <thead>\n",
       "    <tr style=\"text-align: right;\">\n",
       "      <th></th>\n",
       "      <th>LIFESTAGE</th>\n",
       "      <th>PREMIUM_CUSTOMER</th>\n",
       "      <th>TOT_SALES</th>\n",
       "    </tr>\n",
       "  </thead>\n",
       "  <tbody>\n",
       "    <tr>\n",
       "      <th>6</th>\n",
       "      <td>OLDER FAMILIES</td>\n",
       "      <td>Budget</td>\n",
       "      <td>156863.75</td>\n",
       "    </tr>\n",
       "    <tr>\n",
       "      <th>19</th>\n",
       "      <td>YOUNG SINGLES/COUPLES</td>\n",
       "      <td>Mainstream</td>\n",
       "      <td>147582.20</td>\n",
       "    </tr>\n",
       "    <tr>\n",
       "      <th>13</th>\n",
       "      <td>RETIREES</td>\n",
       "      <td>Mainstream</td>\n",
       "      <td>145168.95</td>\n",
       "    </tr>\n",
       "    <tr>\n",
       "      <th>15</th>\n",
       "      <td>YOUNG FAMILIES</td>\n",
       "      <td>Budget</td>\n",
       "      <td>129717.95</td>\n",
       "    </tr>\n",
       "    <tr>\n",
       "      <th>9</th>\n",
       "      <td>OLDER SINGLES/COUPLES</td>\n",
       "      <td>Budget</td>\n",
       "      <td>127833.60</td>\n",
       "    </tr>\n",
       "    <tr>\n",
       "      <th>10</th>\n",
       "      <td>OLDER SINGLES/COUPLES</td>\n",
       "      <td>Mainstream</td>\n",
       "      <td>124648.50</td>\n",
       "    </tr>\n",
       "    <tr>\n",
       "      <th>11</th>\n",
       "      <td>OLDER SINGLES/COUPLES</td>\n",
       "      <td>Premium</td>\n",
       "      <td>123537.55</td>\n",
       "    </tr>\n",
       "    <tr>\n",
       "      <th>12</th>\n",
       "      <td>RETIREES</td>\n",
       "      <td>Budget</td>\n",
       "      <td>105916.30</td>\n",
       "    </tr>\n",
       "    <tr>\n",
       "      <th>7</th>\n",
       "      <td>OLDER FAMILIES</td>\n",
       "      <td>Mainstream</td>\n",
       "      <td>96413.55</td>\n",
       "    </tr>\n",
       "    <tr>\n",
       "      <th>14</th>\n",
       "      <td>RETIREES</td>\n",
       "      <td>Premium</td>\n",
       "      <td>91296.65</td>\n",
       "    </tr>\n",
       "    <tr>\n",
       "      <th>16</th>\n",
       "      <td>YOUNG FAMILIES</td>\n",
       "      <td>Mainstream</td>\n",
       "      <td>86338.25</td>\n",
       "    </tr>\n",
       "    <tr>\n",
       "      <th>1</th>\n",
       "      <td>MIDAGE SINGLES/COUPLES</td>\n",
       "      <td>Mainstream</td>\n",
       "      <td>84734.25</td>\n",
       "    </tr>\n",
       "    <tr>\n",
       "      <th>17</th>\n",
       "      <td>YOUNG FAMILIES</td>\n",
       "      <td>Premium</td>\n",
       "      <td>78571.70</td>\n",
       "    </tr>\n",
       "    <tr>\n",
       "      <th>8</th>\n",
       "      <td>OLDER FAMILIES</td>\n",
       "      <td>Premium</td>\n",
       "      <td>75242.60</td>\n",
       "    </tr>\n",
       "    <tr>\n",
       "      <th>18</th>\n",
       "      <td>YOUNG SINGLES/COUPLES</td>\n",
       "      <td>Budget</td>\n",
       "      <td>57122.10</td>\n",
       "    </tr>\n",
       "    <tr>\n",
       "      <th>2</th>\n",
       "      <td>MIDAGE SINGLES/COUPLES</td>\n",
       "      <td>Premium</td>\n",
       "      <td>54443.85</td>\n",
       "    </tr>\n",
       "    <tr>\n",
       "      <th>20</th>\n",
       "      <td>YOUNG SINGLES/COUPLES</td>\n",
       "      <td>Premium</td>\n",
       "      <td>39052.30</td>\n",
       "    </tr>\n",
       "    <tr>\n",
       "      <th>0</th>\n",
       "      <td>MIDAGE SINGLES/COUPLES</td>\n",
       "      <td>Budget</td>\n",
       "      <td>33345.70</td>\n",
       "    </tr>\n",
       "    <tr>\n",
       "      <th>3</th>\n",
       "      <td>NEW FAMILIES</td>\n",
       "      <td>Budget</td>\n",
       "      <td>20607.45</td>\n",
       "    </tr>\n",
       "    <tr>\n",
       "      <th>4</th>\n",
       "      <td>NEW FAMILIES</td>\n",
       "      <td>Mainstream</td>\n",
       "      <td>15979.70</td>\n",
       "    </tr>\n",
       "    <tr>\n",
       "      <th>5</th>\n",
       "      <td>NEW FAMILIES</td>\n",
       "      <td>Premium</td>\n",
       "      <td>10760.80</td>\n",
       "    </tr>\n",
       "  </tbody>\n",
       "</table>\n",
       "</div>"
      ],
      "text/plain": [
       "                 LIFESTAGE PREMIUM_CUSTOMER  TOT_SALES\n",
       "6           OLDER FAMILIES           Budget  156863.75\n",
       "19   YOUNG SINGLES/COUPLES       Mainstream  147582.20\n",
       "13                RETIREES       Mainstream  145168.95\n",
       "15          YOUNG FAMILIES           Budget  129717.95\n",
       "9    OLDER SINGLES/COUPLES           Budget  127833.60\n",
       "10   OLDER SINGLES/COUPLES       Mainstream  124648.50\n",
       "11   OLDER SINGLES/COUPLES          Premium  123537.55\n",
       "12                RETIREES           Budget  105916.30\n",
       "7           OLDER FAMILIES       Mainstream   96413.55\n",
       "14                RETIREES          Premium   91296.65\n",
       "16          YOUNG FAMILIES       Mainstream   86338.25\n",
       "1   MIDAGE SINGLES/COUPLES       Mainstream   84734.25\n",
       "17          YOUNG FAMILIES          Premium   78571.70\n",
       "8           OLDER FAMILIES          Premium   75242.60\n",
       "18   YOUNG SINGLES/COUPLES           Budget   57122.10\n",
       "2   MIDAGE SINGLES/COUPLES          Premium   54443.85\n",
       "20   YOUNG SINGLES/COUPLES          Premium   39052.30\n",
       "0   MIDAGE SINGLES/COUPLES           Budget   33345.70\n",
       "3             NEW FAMILIES           Budget   20607.45\n",
       "4             NEW FAMILIES       Mainstream   15979.70\n",
       "5             NEW FAMILIES          Premium   10760.80"
      ]
     },
     "execution_count": 46,
     "metadata": {},
     "output_type": "execute_result"
    }
   ],
   "source": [
    "# Total sales by LIFESTAGE and PREMIUM_CUSTOMER\n",
    "grouped_sales = merged_data.groupby(['LIFESTAGE','PREMIUM_CUSTOMER'],as_index=False)['TOT_SALES'].sum().sort_values(by='TOT_SALES', ascending=False)\n",
    "grouped_sales"
   ]
  },
  {
   "cell_type": "code",
   "execution_count": 47,
   "id": "18497f09-99e2-4bec-8eac-83f421bc8ba7",
   "metadata": {},
   "outputs": [
    {
     "data": {
      "image/png": "[encoded data removed]",
      "text/plain": [
       "<Figure size 1400x500 with 1 Axes>"
      ]
     },
     "metadata": {},
     "output_type": "display_data"
    }
   ],
   "source": [
    "# Get the total sales \n",
    "total_sales = merged_data['TOT_SALES'].sum()\n",
    "\n",
    "# Plot a breakdown of the total sales by lifestage and PREMIUM_CUSTOMER\n",
    "total_sales_breakdown = (merged_data.groupby(['LIFESTAGE','PREMIUM_CUSTOMER'])['TOT_SALES']\n",
    "                         .agg('sum')\n",
    "                         .unstack('PREMIUM_CUSTOMER')\n",
    "                         .fillna(0))\n",
    "total_sales_breakdown = total_sales_breakdown.loc[total_sales_breakdown.sum(axis=1).sort_values().index]\n",
    "\n",
    "ax = total_sales_breakdown.plot(kind='barh', stacked=True, figsize=(14, 5))\n",
    "\n",
    "# Add percentages of the summed total sales as labels \n",
    "# .patches is everything inside of the chart\n",
    "for rect in ax.patches:\n",
    "    # Find where everything is located\n",
    "    height = rect.get_height()\n",
    "    width = rect.get_width()\n",
    "    label = width / total_sales * 100\n",
    "    x = rect.get_x()\n",
    "    y = rect.get_y()\n",
    "    \n",
    "    label_text = f'{label:.1f}%' \n",
    "    \n",
    "    # Set label positions\n",
    "    label_x = x + width / 2\n",
    "    label_y = y + height / 2\n",
    "    \n",
    "   \n",
    "    ax.text(label_x, label_y, label_text, ha='center', va='center', fontsize=10)\n",
    "        \n",
    "ax.set_xlabel(\"\")\n",
    "ax.set_ylabel(\"\")\n",
    "plt.gca().spines[['top','right','left','bottom']].set_visible(False)\n",
    "plt.tick_params(axis='both', length=0) \n",
    "plt.grid(axis='x', alpha=0.3)\n",
    "ax.set_title('Total Sales Distributions By Customer Lifestage and Member Type')\n",
    "plt.show()"
   ]
  },
  {
   "cell_type": "markdown",
   "id": "a9b981ac-4cce-4e0a-80da-7e0bd9273eae",
   "metadata": {},
   "source": [
    "**Sales are coming mainly from Budget - older families, Mainstream - young singles/couples, and Mainstream - retirees**"
   ]
  },
  {
   "cell_type": "markdown",
   "id": "61c2b6f1-d313-4fcb-8f47-3a9f95ced99a",
   "metadata": {},
   "source": [
    "**Let's see if the higher sales are due to there being more customers who buy chips.**"
   ]
  },
  {
   "cell_type": "code",
   "execution_count": 48,
   "id": "143a4606-b28e-486d-8209-67aee6e6653a",
   "metadata": {},
   "outputs": [
    {
     "data": {
      "image/png": "[encoded data removed]",
      "text/plain": [
       "<Figure size 1300x500 with 1 Axes>"
      ]
     },
     "metadata": {},
     "output_type": "display_data"
    }
   ],
   "source": [
    "# Plot the numbers of customers in each segment by counting the unique LYLTY_CARD_NBR entries\n",
    "grouped_customer_count= merged_data.groupby(['LIFESTAGE','PREMIUM_CUSTOMER'])['LYLTY_CARD_NBR'].agg('nunique').unstack('PREMIUM_CUSTOMER').fillna(0)\n",
    "#colors = plt.get_cmap('Set1').colors\n",
    "ax = grouped_customer_count.plot(kind='barh', stacked=True, figsize=(13, 5)) #, color=colors)\n",
    "\n",
    "# Add customer numbers as labels to each bar \n",
    "# .patches is everything inside of the chart\n",
    "for rect in ax.patches:\n",
    "    # Find where everything is located\n",
    "    height = rect.get_height()\n",
    "    width = rect.get_width()\n",
    "    x = rect.get_x()\n",
    "    y = rect.get_y()\n",
    "    \n",
    "    label_text = f'{(width):.0f}'\n",
    "    \n",
    "    # Set label positions\n",
    "    label_x = x + width / 2\n",
    "    label_y = y + height / 2\n",
    "    \n",
    "    ax.text(label_x, label_y, label_text, ha='center', va='center', fontsize=10)\n",
    "        \n",
    "ax.set_xlabel(\"\")\n",
    "ax.set_ylabel(\"\")\n",
    "plt.gca().spines[['top','right','left','bottom']].set_visible(False)\n",
    "plt.tick_params(axis='both', length=0)\n",
    "plt.tick_params(axis='x', labelbottom=False) \n",
    "ax.set_title('Distribution of the Numbers of Customers By Customer Lifestage and Member Type')\n",
    "plt.show()"
   ]
  },
  {
   "cell_type": "markdown",
   "id": "cb41378a-3c5c-442d-9032-87cf9d7f228e",
   "metadata": {},
   "source": [
    "**There are more Mainstream - young singles/couples and Mainstream - retirees who buy chips. This contributes to there being more sales to these customer segments but this is not a major driver for the Budget - Older families segment.**"
   ]
  },
  {
   "cell_type": "markdown",
   "id": "5f79fd7a-0944-4304-86b1-550aaa80acc9",
   "metadata": {},
   "source": [
    "**Higher sales may also be driven by more units of chips being bought per customer.**"
   ]
  },
  {
   "cell_type": "code",
   "execution_count": 49,
   "id": "91aa0b24-635e-4e82-ba39-239ce3e8cd4d",
   "metadata": {},
   "outputs": [
    {
     "data": {
      "text/plain": [
       "LIFESTAGE               PREMIUM_CUSTOMER\n",
       "MIDAGE SINGLES/COUPLES  Budget              6.026459\n",
       "                        Mainstream          6.432080\n",
       "                        Premium             6.078514\n",
       "NEW FAMILIES            Budget              4.821527\n",
       "                        Mainstream          4.891566\n",
       "                        Premium             4.815652\n",
       "OLDER FAMILIES          Budget              9.076773\n",
       "                        Mainstream          9.255380\n",
       "                        Premium             9.071717\n",
       "OLDER SINGLES/COUPLES   Budget              6.781398\n",
       "                        Mainstream          6.712021\n",
       "                        Premium             6.769543\n",
       "RETIREES                Budget              6.141847\n",
       "                        Mainstream          5.925920\n",
       "                        Premium             6.103358\n",
       "YOUNG FAMILIES          Budget              8.722995\n",
       "                        Mainstream          8.638361\n",
       "                        Premium             8.716013\n",
       "YOUNG SINGLES/COUPLES   Budget              4.250069\n",
       "                        Mainstream          4.575597\n",
       "                        Premium             4.264113\n",
       "dtype: float64"
      ]
     },
     "execution_count": 49,
     "metadata": {},
     "output_type": "execute_result"
    }
   ],
   "source": [
    "grouped_qty = merged_data.groupby(['LIFESTAGE','PREMIUM_CUSTOMER'])['PROD_QTY'].sum()/merged_data.groupby(['LIFESTAGE','PREMIUM_CUSTOMER'])\\\n",
    "['LYLTY_CARD_NBR'].nunique()\n",
    "grouped_qty"
   ]
  },
  {
   "cell_type": "code",
   "execution_count": 50,
   "id": "cfc5c573-d52a-4963-a64c-b4b19c86afc9",
   "metadata": {},
   "outputs": [
    {
     "data": {
      "image/png": "[encoded data removed]",
      "text/plain": [
       "<Figure size 1000x400 with 1 Axes>"
      ]
     },
     "metadata": {},
     "output_type": "display_data"
    }
   ],
   "source": [
    "ax = grouped_qty.unstack('PREMIUM_CUSTOMER').fillna(0).plot.bar(stacked = False,figsize=(10, 4))\n",
    "ax.set_title('Average number of units per customer by Member Type and LIFESTAGE')\n",
    "plt.xticks(rotation=15)\n",
    "ax.set_xlabel(\"\")\n",
    "ax.set_ylabel(\"\")\n",
    "plt.gca().spines[['top','right','left']].set_visible(False)\n",
    "plt.tick_params(axis='both', length=0) \n",
    "plt.grid(axis='y',alpha=0.3)\n",
    "plt.legend(loc = \"upper left\",bbox_to_anchor=(1.0, 1.0))\n",
    "plt.show()"
   ]
  },
  {
   "cell_type": "markdown",
   "id": "a99d0cf6-64fa-4128-91a6-b6b5beecc036",
   "metadata": {},
   "source": [
    "**Older families and young families in general buy more chips per customer.**"
   ]
  },
  {
   "cell_type": "markdown",
   "id": "7640f687-7cf4-4add-ad1a-bb8e75c04a8a",
   "metadata": {},
   "source": [
    "**Let's also investigate the average price per unit chips bought for each customer segment as this is also a driver of total sales.**"
   ]
  },
  {
   "cell_type": "code",
   "execution_count": 51,
   "id": "cbf8bd3f-86d8-42c6-a467-c365a8fb6be4",
   "metadata": {},
   "outputs": [
    {
     "data": {
      "text/html": [
       "<div>\n",
       "<style scoped>\n",
       "    .dataframe tbody tr th:only-of-type {\n",
       "        vertical-align: middle;\n",
       "    }\n",
       "\n",
       "    .dataframe tbody tr th {\n",
       "        vertical-align: top;\n",
       "    }\n",
       "\n",
       "    .dataframe thead th {\n",
       "        text-align: right;\n",
       "    }\n",
       "</style>\n",
       "<table border=\"1\" class=\"dataframe\">\n",
       "  <thead>\n",
       "    <tr style=\"text-align: right;\">\n",
       "      <th>PREMIUM_CUSTOMER</th>\n",
       "      <th>Budget</th>\n",
       "      <th>Mainstream</th>\n",
       "      <th>Premium</th>\n",
       "    </tr>\n",
       "    <tr>\n",
       "      <th>LIFESTAGE</th>\n",
       "      <th></th>\n",
       "      <th></th>\n",
       "      <th></th>\n",
       "    </tr>\n",
       "  </thead>\n",
       "  <tbody>\n",
       "    <tr>\n",
       "      <th>MIDAGE SINGLES/COUPLES</th>\n",
       "      <td>3.743328</td>\n",
       "      <td>3.994241</td>\n",
       "      <td>3.770698</td>\n",
       "    </tr>\n",
       "    <tr>\n",
       "      <th>NEW FAMILIES</th>\n",
       "      <td>3.917688</td>\n",
       "      <td>3.916133</td>\n",
       "      <td>3.872110</td>\n",
       "    </tr>\n",
       "    <tr>\n",
       "      <th>OLDER FAMILIES</th>\n",
       "      <td>3.745340</td>\n",
       "      <td>3.737077</td>\n",
       "      <td>3.717000</td>\n",
       "    </tr>\n",
       "    <tr>\n",
       "      <th>OLDER SINGLES/COUPLES</th>\n",
       "      <td>3.882096</td>\n",
       "      <td>3.814665</td>\n",
       "      <td>3.893182</td>\n",
       "    </tr>\n",
       "    <tr>\n",
       "      <th>RETIREES</th>\n",
       "      <td>3.924404</td>\n",
       "      <td>3.844294</td>\n",
       "      <td>3.920942</td>\n",
       "    </tr>\n",
       "    <tr>\n",
       "      <th>YOUNG FAMILIES</th>\n",
       "      <td>3.760737</td>\n",
       "      <td>3.724533</td>\n",
       "      <td>3.762150</td>\n",
       "    </tr>\n",
       "    <tr>\n",
       "      <th>YOUNG SINGLES/COUPLES</th>\n",
       "      <td>3.657366</td>\n",
       "      <td>4.065642</td>\n",
       "      <td>3.665414</td>\n",
       "    </tr>\n",
       "  </tbody>\n",
       "</table>\n",
       "</div>"
      ],
      "text/plain": [
       "PREMIUM_CUSTOMER          Budget  Mainstream   Premium\n",
       "LIFESTAGE                                             \n",
       "MIDAGE SINGLES/COUPLES  3.743328    3.994241  3.770698\n",
       "NEW FAMILIES            3.917688    3.916133  3.872110\n",
       "OLDER FAMILIES          3.745340    3.737077  3.717000\n",
       "OLDER SINGLES/COUPLES   3.882096    3.814665  3.893182\n",
       "RETIREES                3.924404    3.844294  3.920942\n",
       "YOUNG FAMILIES          3.760737    3.724533  3.762150\n",
       "YOUNG SINGLES/COUPLES   3.657366    4.065642  3.665414"
      ]
     },
     "execution_count": 51,
     "metadata": {},
     "output_type": "execute_result"
    }
   ],
   "source": [
    "# Create a column for the unit price of chips purchased per transaction \n",
    "merged_data['UNIT_PRICE'] = merged_data['TOT_SALES']/merged_data['PROD_QTY']\n",
    "# Plot the distribution of the average unit price per transaction by LIFESTAGE and MEMBER_TYPE.\n",
    "avg_price_per_unit = merged_data.groupby(['LIFESTAGE', 'PREMIUM_CUSTOMER'])['UNIT_PRICE'].mean().unstack('PREMIUM_CUSTOMER').fillna(0)\n",
    "avg_price_per_unit"
   ]
  },
  {
   "cell_type": "code",
   "execution_count": 52,
   "id": "6a0f81b2-edec-4be8-8350-10ad54bb9106",
   "metadata": {},
   "outputs": [
    {
     "data": {
      "image/png": "[encoded data removed]",
      "text/plain": [
       "<Figure size 1000x500 with 1 Axes>"
      ]
     },
     "metadata": {},
     "output_type": "display_data"
    }
   ],
   "source": [
    "ax = avg_price_per_unit.plot.bar(stacked=False, figsize=(10, 5))\n",
    "ax.set_ylabel(\"Avg unit price per transaction\")\n",
    "ax.set_title('Average Unit Price Per Transaction by Customer Lifestage and Member Type')\n",
    "plt.legend(loc = \"upper left\",bbox_to_anchor=(1.0, 1.0))\n",
    "plt.xticks(rotation=15)\n",
    "ax.set_xlabel(\"\")\n",
    "ax.set_ylabel(\"\")\n",
    "plt.gca().spines[['top','right','left']].set_visible(False)\n",
    "plt.tick_params(axis='both', length=0) \n",
    "plt.grid(axis='y',alpha=0.3)\n",
    "plt.legend(loc = \"upper left\",bbox_to_anchor=(1.0, 1.0))\n",
    "plt.show()"
   ]
  },
  {
   "cell_type": "markdown",
   "id": "a4ae8875-3088-4f5e-ac2f-896b15684be3",
   "metadata": {},
   "source": [
    "**Mainstream midage and young singles and couples are more willing to pay more per packet of chips compared to their budget and premium counterparts.\n",
    "This may be due to premium shoppers being more likely to buy healthy snacks and when they buy chips, this is mainly for entertainment purposes rather than their own consumption.\n",
    "This is also supported by there being fewer premium midage and young singles and couples buying chips compared to their mainstream counterparts.**"
   ]
  },
  {
   "cell_type": "markdown",
   "id": "7216b056-9e12-469b-a1f5-fb8cc09cb9c3",
   "metadata": {},
   "source": [
    "**As the difference in average price per unit isn't large, we can check if this difference is statistically different.**"
   ]
  },
  {
   "cell_type": "markdown",
   "id": "bafc6cfe-8a30-42f7-8509-e3b6b9c0bd43",
   "metadata": {},
   "source": [
    "### Perform an independent t-test between mainstream vs premium and budget midage and young singles and couples"
   ]
  },
  {
   "cell_type": "code",
   "execution_count": 53,
   "id": "9b1ead28-fcb4-4ead-89fc-a7462a3aaf83",
   "metadata": {},
   "outputs": [
    {
     "name": "stdout",
     "output_type": "stream",
     "text": [
      "37.6243885962295 6.967354233018139e-306\n"
     ]
    }
   ],
   "source": [
    "# Perform a t-test to see if the difference is significant\n",
    "from scipy.stats import ttest_ind\n",
    "\n",
    "# Identify the groups to test the hypthesis with \n",
    "mainstream = merged_data[\"PREMIUM_CUSTOMER\"] == \"Mainstream\"\n",
    "young_midage = (merged_data[\"LIFESTAGE\"] == \"MIDAGE SINGLES/COUPLES\") | (merged_data[\"LIFESTAGE\"] == \"YOUNG SINGLES/COUPLES\")\n",
    "premium_budget = merged_data[\"PREMIUM_CUSTOMER\"] != \"Mainstream\"\n",
    "\n",
    "group_a = merged_data[mainstream & young_midage][\"UNIT_PRICE\"]\n",
    "group_b = merged_data[premium_budget & young_midage][\"UNIT_PRICE\"]\n",
    "\n",
    "# Generate the t-test \n",
    "t_stat, p_value = ttest_ind(group_a, group_b, equal_var=False)\n",
    "\n",
    "print(t_stat, p_value)"
   ]
  },
  {
   "cell_type": "markdown",
   "id": "05c55692-e1c4-42d8-a69a-2960976b5957",
   "metadata": {},
   "source": [
    "The t-test results in a p-value of 6.97e-306, being close to 0, i.e. the unit price for mainstream, young and mid-age singles and couples ARE significantly higher than that of budget or premium, young and midage singles and couples."
   ]
  },
  {
   "cell_type": "markdown",
   "id": "a30cce23-2956-4942-983c-2ca22908fbf0",
   "metadata": {},
   "source": [
    "### Deep dive into specific customer segments for insights"
   ]
  },
  {
   "cell_type": "markdown",
   "id": "dbbda7fb-c6f9-4d8e-b609-645fe0d4c156",
   "metadata": {},
   "source": [
    "We have found quite a few interesting insights that we can dive deeper into.\n",
    "We might want to target customer segments that contribute the most to sales to\n",
    "retain them or further increase sales. Let's look at Mainstream - young\n",
    "singles/couples. For instance, let's find out if they tend to buy a particular\n",
    "brand of chips."
   ]
  },
  {
   "cell_type": "code",
   "execution_count": 54,
   "id": "335f1846-fa86-4e6b-bd0c-04fa024e7487",
   "metadata": {},
   "outputs": [
    {
     "data": {
      "image/png": "[encoded data removed]",
      "text/plain": [
       "<Figure size 1000x500 with 1 Axes>"
      ]
     },
     "metadata": {},
     "output_type": "display_data"
    }
   ],
   "source": [
    "# Create a visualization of what brands young singles/couples purchased the most\n",
    "young_mainstream = merged_data.query('PREMIUM_CUSTOMER==\"Mainstream\" and LIFESTAGE==\"YOUNG SINGLES/COUPLES\"')\n",
    "young_mainstream_brand = young_mainstream[\"BRAND_NAME\"].value_counts().sort_values(ascending = True)\n",
    "ax = young_mainstream_brand.plot.barh(figsize=(10, 5))\n",
    "\n",
    "for index, value in enumerate(young_mainstream_brand):\n",
    "    ax.text(value+5, index, f'{value}', va='center')\n",
    "    \n",
    "ax.set_xlabel(\"\")\n",
    "ax.set_ylabel(\"\")\n",
    "ax.set_title('Number of packets purchased by brand')\n",
    "plt.gca().spines[['top','right','left','bottom']].set_visible(False)\n",
    "plt.tick_params(axis='both', length=0) \n",
    "plt.tick_params(axis='x', labelbottom=False) \n",
    "plt.show()"
   ]
  },
  {
   "cell_type": "code",
   "execution_count": 55,
   "id": "fdb38255-a233-45f8-b8f9-e430c56d4ce5",
   "metadata": {},
   "outputs": [
    {
     "data": {
      "image/png": "[encoded data removed]",
      "text/plain": [
       "<Figure size 640x480 with 1 Axes>"
      ]
     },
     "metadata": {},
     "output_type": "display_data"
    }
   ],
   "source": [
    "# Let's also find out if our target segment tends to buy larger packs of chips.\n",
    "young_mainstream_packsize = young_mainstream[\"PACK_SIZE\"].value_counts().sort_values(ascending = True)\n",
    "ax=young_mainstream_packsize.plot.barh()\n",
    "\n",
    "for index, value in enumerate(young_mainstream_packsize):\n",
    "    ax.text(value+10, index, f'{value}', va='center', fontsize=8)\n",
    "    \n",
    "ax.set_ylabel(\"\")\n",
    "ax.set_xlabel(\"\")\n",
    "ax.set_title('Number of packets purchased by size')\n",
    "plt.gca().spines[['top','right','left','bottom']].set_visible(False)\n",
    "plt.tick_params(axis='both', length=0) \n",
    "plt.tick_params(axis='x', labelbottom=False) \n",
    "plt.show()"
   ]
  },
  {
   "cell_type": "code",
   "execution_count": 56,
   "id": "f422bad7-f4e8-49d5-9861-33bd6b83bf04",
   "metadata": {},
   "outputs": [
    {
     "data": {
      "image/png": "[encoded data removed]",
      "text/plain": [
       "<Figure size 800x800 with 1 Axes>"
      ]
     },
     "metadata": {},
     "output_type": "display_data"
    }
   ],
   "source": [
    "# brands correspond to size\n",
    "young_mainstream_brand_size = young_mainstream.groupby(['BRAND_NAME','PACK_SIZE'])['TOT_SALES'].sum().sort_values()\n",
    "ax = young_mainstream_brand_size.plot.barh(figsize=(8,8))\n",
    "\n",
    "for index, value in enumerate(young_mainstream_brand_size):\n",
    "    if index >young_mainstream_brand_size.size-5:\n",
    "        ax.text(value+20, index, f'{value}', va='center', fontsize=8)\n",
    "        \n",
    "ax.set_ylabel(\"\")\n",
    "ax.set_xlabel(\"\")\n",
    "plt.gca().spines[['top','right','left','bottom']].set_visible(False)\n",
    "plt.tick_params(axis='both', length=0) \n",
    "plt.tick_params(axis='x', labelbottom=False) \n",
    "plt.show()"
   ]
  },
  {
   "cell_type": "markdown",
   "id": "405a819f-477c-4248-ae1d-ea676129bce7",
   "metadata": {},
   "source": [
    "### Summary of Insights"
   ]
  },
  {
   "cell_type": "markdown",
   "id": "e8174280-acca-425a-9f14-d5aeed94484f",
   "metadata": {},
   "source": [
    "The following three segments contribute the most to the total sales:  \n",
    "Older families - Budget  \n",
    "Young singles/couples - Mainstream  \n",
    "Retirees - Mainstream  \n",
    "Within them, the largest population group is mainstream young singles/couples, followed by mainstream retirees. While population is not a driving factor for budget older families, older families and young families buy more chips per customer compared to other segments.  \n",
    "\n",
    "Furthermore, mainstream young singles/couples are the most willing to pay more per packet of chips compared to other segments. Upon closer examination, we found that their most popular chip brands are Kettle, Doritos, and Pringles. They prefer to buy 175g Kettle, 134g Pringles, 150g Kettle, and 170g Doritos."
   ]
  }
 ],
 "metadata": {
  "kernelspec": {
   "display_name": "Python 3 (ipykernel)",
   "language": "python",
   "name": "python3"
  },
  "language_info": {
   "codemirror_mode": {
    "name": "ipython",
    "version": 3
   },
   "file_extension": ".py",
   "mimetype": "text/x-python",
   "name": "python",
   "nbconvert_exporter": "python",
   "pygments_lexer": "ipython3",
   "version": "3.11.8"
  }
 },
 "nbformat": 4,
 "nbformat_minor": 5
}
