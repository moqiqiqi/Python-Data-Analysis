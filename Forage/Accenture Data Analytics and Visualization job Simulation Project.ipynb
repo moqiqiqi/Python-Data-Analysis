{
 "cells": [
  {
   "cell_type": "markdown",
   "id": "7584e590-8c74-49d9-9f7b-07532d5e5c5a",
   "metadata": {},
   "source": [
    "## Accenture Data Analytics and Visualization job Simulation Project"
   ]
  },
  {
   "cell_type": "markdown",
   "id": "48b5a07f-1079-4b6a-97fd-df4f4f095229",
   "metadata": {},
   "source": [
    "**Load required libraries and datasets**"
   ]
  },
  {
   "cell_type": "code",
   "execution_count": 1,
   "id": "c46ebc61-808f-4cc4-b780-f3bddf418516",
   "metadata": {},
   "outputs": [],
   "source": [
    "import pandas as pd\n",
    "import numpy as np\n",
    "import seaborn as sns\n",
    "import matplotlib.pyplot as plt"
   ]
  },
  {
   "cell_type": "code",
   "execution_count": 2,
   "id": "25bd1ddb-938d-42fd-afb1-1c84b5a8298c",
   "metadata": {},
   "outputs": [],
   "source": [
    "content = pd.read_csv('Content.csv')\n",
    "reactions = pd.read_csv('Reactions.csv')\n",
    "reaction_types = pd.read_csv('ReactionTypes.csv')"
   ]
  },
  {
   "cell_type": "code",
   "execution_count": 3,
   "id": "79ad5ec8-3c21-4d58-951f-50b70f149011",
   "metadata": {},
   "outputs": [
    {
     "name": "stdout",
     "output_type": "stream",
     "text": [
      "<class 'pandas.core.frame.DataFrame'>\n",
      "RangeIndex: 1000 entries, 0 to 999\n",
      "Data columns (total 6 columns):\n",
      " #   Column      Non-Null Count  Dtype \n",
      "---  ------      --------------  ----- \n",
      " 0   Unnamed: 0  1000 non-null   int64 \n",
      " 1   Content ID  1000 non-null   object\n",
      " 2   User ID     1000 non-null   object\n",
      " 3   Type        1000 non-null   object\n",
      " 4   Category    1000 non-null   object\n",
      " 5   URL         801 non-null    object\n",
      "dtypes: int64(1), object(5)\n",
      "memory usage: 47.0+ KB\n",
      "<class 'pandas.core.frame.DataFrame'>\n",
      "RangeIndex: 25553 entries, 0 to 25552\n",
      "Data columns (total 5 columns):\n",
      " #   Column      Non-Null Count  Dtype \n",
      "---  ------      --------------  ----- \n",
      " 0   Unnamed: 0  25553 non-null  int64 \n",
      " 1   Content ID  25553 non-null  object\n",
      " 2   User ID     22534 non-null  object\n",
      " 3   Type        24573 non-null  object\n",
      " 4   Datetime    25553 non-null  object\n",
      "dtypes: int64(1), object(4)\n",
      "memory usage: 998.3+ KB\n",
      "<class 'pandas.core.frame.DataFrame'>\n",
      "RangeIndex: 16 entries, 0 to 15\n",
      "Data columns (total 4 columns):\n",
      " #   Column      Non-Null Count  Dtype \n",
      "---  ------      --------------  ----- \n",
      " 0   Unnamed: 0  16 non-null     int64 \n",
      " 1   Type        16 non-null     object\n",
      " 2   Sentiment   16 non-null     object\n",
      " 3   Score       16 non-null     int64 \n",
      "dtypes: int64(2), object(2)\n",
      "memory usage: 644.0+ bytes\n"
     ]
    },
    {
     "data": {
      "text/plain": [
       "(None, None, None)"
      ]
     },
     "execution_count": 3,
     "metadata": {},
     "output_type": "execute_result"
    }
   ],
   "source": [
    "content.info(), reactions.info(),reaction_types.info()"
   ]
  },
  {
   "cell_type": "markdown",
   "id": "ef033c0f-f275-4356-aefb-3a62c3f73eba",
   "metadata": {},
   "source": [
    "**Data cleaning for the three datasets one by one**"
   ]
  },
  {
   "cell_type": "code",
   "execution_count": 4,
   "id": "69f8ecec-81a4-4f08-862c-9c8d90036735",
   "metadata": {},
   "outputs": [
    {
     "data": {
      "text/html": [
       "<div>\n",
       "<style scoped>\n",
       "    .dataframe tbody tr th:only-of-type {\n",
       "        vertical-align: middle;\n",
       "    }\n",
       "\n",
       "    .dataframe tbody tr th {\n",
       "        vertical-align: top;\n",
       "    }\n",
       "\n",
       "    .dataframe thead th {\n",
       "        text-align: right;\n",
       "    }\n",
       "</style>\n",
       "<table border=\"1\" class=\"dataframe\">\n",
       "  <thead>\n",
       "    <tr style=\"text-align: right;\">\n",
       "      <th></th>\n",
       "      <th>Unnamed: 0</th>\n",
       "      <th>Content ID</th>\n",
       "      <th>User ID</th>\n",
       "      <th>Type</th>\n",
       "      <th>Category</th>\n",
       "      <th>URL</th>\n",
       "    </tr>\n",
       "  </thead>\n",
       "  <tbody>\n",
       "    <tr>\n",
       "      <th>0</th>\n",
       "      <td>0</td>\n",
       "      <td>97522e57-d9ab-4bd6-97bf-c24d952602d2</td>\n",
       "      <td>8d3cd87d-8a31-4935-9a4f-b319bfe05f31</td>\n",
       "      <td>photo</td>\n",
       "      <td>Studying</td>\n",
       "      <td>https://socialbuzz.cdn.com/content/storage/975...</td>\n",
       "    </tr>\n",
       "    <tr>\n",
       "      <th>1</th>\n",
       "      <td>1</td>\n",
       "      <td>9f737e0a-3cdd-4d29-9d24-753f4e3be810</td>\n",
       "      <td>beb1f34e-7870-46d6-9fc7-2e12eb83ce43</td>\n",
       "      <td>photo</td>\n",
       "      <td>healthy eating</td>\n",
       "      <td>https://socialbuzz.cdn.com/content/storage/9f7...</td>\n",
       "    </tr>\n",
       "    <tr>\n",
       "      <th>2</th>\n",
       "      <td>2</td>\n",
       "      <td>230c4e4d-70c3-461d-b42c-ec09396efb3f</td>\n",
       "      <td>a5c65404-5894-4b87-82f2-d787cbee86b4</td>\n",
       "      <td>photo</td>\n",
       "      <td>healthy eating</td>\n",
       "      <td>https://socialbuzz.cdn.com/content/storage/230...</td>\n",
       "    </tr>\n",
       "    <tr>\n",
       "      <th>3</th>\n",
       "      <td>3</td>\n",
       "      <td>356fff80-da4d-4785-9f43-bc1261031dc6</td>\n",
       "      <td>9fb4ce88-fac1-406c-8544-1a899cee7aaf</td>\n",
       "      <td>photo</td>\n",
       "      <td>technology</td>\n",
       "      <td>https://socialbuzz.cdn.com/content/storage/356...</td>\n",
       "    </tr>\n",
       "    <tr>\n",
       "      <th>4</th>\n",
       "      <td>4</td>\n",
       "      <td>01ab84dd-6364-4236-abbb-3f237db77180</td>\n",
       "      <td>e206e31b-5f85-4964-b6ea-d7ee5324def1</td>\n",
       "      <td>video</td>\n",
       "      <td>food</td>\n",
       "      <td>https://socialbuzz.cdn.com/content/storage/01a...</td>\n",
       "    </tr>\n",
       "  </tbody>\n",
       "</table>\n",
       "</div>"
      ],
      "text/plain": [
       "   Unnamed: 0                            Content ID  \\\n",
       "0           0  97522e57-d9ab-4bd6-97bf-c24d952602d2   \n",
       "1           1  9f737e0a-3cdd-4d29-9d24-753f4e3be810   \n",
       "2           2  230c4e4d-70c3-461d-b42c-ec09396efb3f   \n",
       "3           3  356fff80-da4d-4785-9f43-bc1261031dc6   \n",
       "4           4  01ab84dd-6364-4236-abbb-3f237db77180   \n",
       "\n",
       "                                User ID   Type        Category  \\\n",
       "0  8d3cd87d-8a31-4935-9a4f-b319bfe05f31  photo        Studying   \n",
       "1  beb1f34e-7870-46d6-9fc7-2e12eb83ce43  photo  healthy eating   \n",
       "2  a5c65404-5894-4b87-82f2-d787cbee86b4  photo  healthy eating   \n",
       "3  9fb4ce88-fac1-406c-8544-1a899cee7aaf  photo      technology   \n",
       "4  e206e31b-5f85-4964-b6ea-d7ee5324def1  video            food   \n",
       "\n",
       "                                                 URL  \n",
       "0  https://socialbuzz.cdn.com/content/storage/975...  \n",
       "1  https://socialbuzz.cdn.com/content/storage/9f7...  \n",
       "2  https://socialbuzz.cdn.com/content/storage/230...  \n",
       "3  https://socialbuzz.cdn.com/content/storage/356...  \n",
       "4  https://socialbuzz.cdn.com/content/storage/01a...  "
      ]
     },
     "execution_count": 4,
     "metadata": {},
     "output_type": "execute_result"
    }
   ],
   "source": [
    "content.head()"
   ]
  },
  {
   "cell_type": "code",
   "execution_count": 5,
   "id": "0cfcef0e-9944-419b-9a32-ccbd3a43c499",
   "metadata": {},
   "outputs": [],
   "source": [
    "#Drop these columns cause we only need data related to reactions and content\n",
    "content.drop(columns=['Unnamed: 0', 'URL', 'User ID'], inplace=True)"
   ]
  },
  {
   "cell_type": "code",
   "execution_count": 6,
   "id": "9bc47d33-d1ed-459e-88a4-a04969246c64",
   "metadata": {},
   "outputs": [
    {
     "name": "stdout",
     "output_type": "stream",
     "text": [
      "<class 'pandas.core.frame.DataFrame'>\n",
      "RangeIndex: 1000 entries, 0 to 999\n",
      "Data columns (total 3 columns):\n",
      " #   Column      Non-Null Count  Dtype \n",
      "---  ------      --------------  ----- \n",
      " 0   Content ID  1000 non-null   object\n",
      " 1   Type        1000 non-null   object\n",
      " 2   Category    1000 non-null   object\n",
      "dtypes: object(3)\n",
      "memory usage: 23.6+ KB\n"
     ]
    }
   ],
   "source": [
    "content.info()"
   ]
  },
  {
   "cell_type": "code",
   "execution_count": 7,
   "id": "25102886-cba2-456e-abe2-097b2d279711",
   "metadata": {},
   "outputs": [],
   "source": [
    "content.rename(columns={'Type': 'content_type'}, inplace= True)"
   ]
  },
  {
   "cell_type": "code",
   "execution_count": 8,
   "id": "891aa9f3-50ca-465a-a070-d80170157725",
   "metadata": {},
   "outputs": [
    {
     "data": {
      "text/plain": [
       "Category\n",
       "technology           71\n",
       "animals              67\n",
       "travel               67\n",
       "culture              63\n",
       "science              63\n",
       "fitness              61\n",
       "food                 61\n",
       "healthy eating       61\n",
       "cooking              60\n",
       "soccer               58\n",
       "tennis               58\n",
       "education            57\n",
       "dogs                 56\n",
       "studying             55\n",
       "veganism             48\n",
       "public speaking      48\n",
       "Fitness               5\n",
       "Animals               4\n",
       "Science               4\n",
       "\"soccer\"              3\n",
       "\"culture\"             3\n",
       "Soccer                3\n",
       "\"dogs\"                2\n",
       "Education             2\n",
       "Studying              2\n",
       "Travel                2\n",
       "Food                  2\n",
       "\"veganism\"            1\n",
       "\"public speaking\"     1\n",
       "Public Speaking       1\n",
       "\"technology\"          1\n",
       "\"cooking\"             1\n",
       "Healthy Eating        1\n",
       "\"studying\"            1\n",
       "\"food\"                1\n",
       "Culture               1\n",
       "\"tennis\"              1\n",
       "Technology            1\n",
       "\"animals\"             1\n",
       "Veganism              1\n",
       "\"science\"             1\n",
       "Name: count, dtype: int64"
      ]
     },
     "execution_count": 8,
     "metadata": {},
     "output_type": "execute_result"
    }
   ],
   "source": [
    "content['Category'].value_counts()"
   ]
  },
  {
   "cell_type": "code",
   "execution_count": 9,
   "id": "19f146b5-1213-4f03-846f-d978db055529",
   "metadata": {},
   "outputs": [],
   "source": [
    "# eliminate \"\"\n",
    "content['Category']=content['Category'].str.replace('\"', '')"
   ]
  },
  {
   "cell_type": "code",
   "execution_count": 10,
   "id": "f636e963-0480-4af3-ab66-112b624af919",
   "metadata": {},
   "outputs": [],
   "source": [
    "# science and Science are the same. So do animals and Animals and... Let's combine these together.\n",
    "content['Category']=content['Category'].str.lower()"
   ]
  },
  {
   "cell_type": "code",
   "execution_count": 11,
   "id": "6857ccd9-ab52-4619-b506-b5d8f2b10ea6",
   "metadata": {},
   "outputs": [
    {
     "data": {
      "text/plain": [
       "Category\n",
       "technology         73\n",
       "animals            72\n",
       "travel             69\n",
       "science            68\n",
       "culture            67\n",
       "fitness            66\n",
       "food               64\n",
       "soccer             64\n",
       "healthy eating     62\n",
       "cooking            61\n",
       "tennis             59\n",
       "education          59\n",
       "studying           58\n",
       "dogs               58\n",
       "public speaking    50\n",
       "veganism           50\n",
       "Name: count, dtype: int64"
      ]
     },
     "execution_count": 11,
     "metadata": {},
     "output_type": "execute_result"
    }
   ],
   "source": [
    "content['Category'].value_counts()"
   ]
  },
  {
   "cell_type": "code",
   "execution_count": 12,
   "id": "8856587f-f945-4d25-8764-cc78b5ded83b",
   "metadata": {},
   "outputs": [
    {
     "data": {
      "text/plain": [
       "content_type\n",
       "photo    261\n",
       "video    259\n",
       "GIF      244\n",
       "audio    236\n",
       "Name: count, dtype: int64"
      ]
     },
     "execution_count": 12,
     "metadata": {},
     "output_type": "execute_result"
    }
   ],
   "source": [
    "content['content_type'].value_counts()"
   ]
  },
  {
   "cell_type": "code",
   "execution_count": 13,
   "id": "579c1139-5a73-4b68-b7a7-f12cfb687db4",
   "metadata": {},
   "outputs": [
    {
     "data": {
      "text/html": [
       "<div>\n",
       "<style scoped>\n",
       "    .dataframe tbody tr th:only-of-type {\n",
       "        vertical-align: middle;\n",
       "    }\n",
       "\n",
       "    .dataframe tbody tr th {\n",
       "        vertical-align: top;\n",
       "    }\n",
       "\n",
       "    .dataframe thead th {\n",
       "        text-align: right;\n",
       "    }\n",
       "</style>\n",
       "<table border=\"1\" class=\"dataframe\">\n",
       "  <thead>\n",
       "    <tr style=\"text-align: right;\">\n",
       "      <th></th>\n",
       "      <th>Unnamed: 0</th>\n",
       "      <th>Content ID</th>\n",
       "      <th>User ID</th>\n",
       "      <th>Type</th>\n",
       "      <th>Datetime</th>\n",
       "    </tr>\n",
       "  </thead>\n",
       "  <tbody>\n",
       "    <tr>\n",
       "      <th>0</th>\n",
       "      <td>0</td>\n",
       "      <td>97522e57-d9ab-4bd6-97bf-c24d952602d2</td>\n",
       "      <td>NaN</td>\n",
       "      <td>NaN</td>\n",
       "      <td>2021-04-22 15:17:15</td>\n",
       "    </tr>\n",
       "    <tr>\n",
       "      <th>1</th>\n",
       "      <td>1</td>\n",
       "      <td>97522e57-d9ab-4bd6-97bf-c24d952602d2</td>\n",
       "      <td>5d454588-283d-459d-915d-c48a2cb4c27f</td>\n",
       "      <td>disgust</td>\n",
       "      <td>2020-11-07 09:43:50</td>\n",
       "    </tr>\n",
       "    <tr>\n",
       "      <th>2</th>\n",
       "      <td>2</td>\n",
       "      <td>97522e57-d9ab-4bd6-97bf-c24d952602d2</td>\n",
       "      <td>92b87fa5-f271-43e0-af66-84fac21052e6</td>\n",
       "      <td>dislike</td>\n",
       "      <td>2021-06-17 12:22:51</td>\n",
       "    </tr>\n",
       "    <tr>\n",
       "      <th>3</th>\n",
       "      <td>3</td>\n",
       "      <td>97522e57-d9ab-4bd6-97bf-c24d952602d2</td>\n",
       "      <td>163daa38-8b77-48c9-9af6-37a6c1447ac2</td>\n",
       "      <td>scared</td>\n",
       "      <td>2021-04-18 05:13:58</td>\n",
       "    </tr>\n",
       "    <tr>\n",
       "      <th>4</th>\n",
       "      <td>4</td>\n",
       "      <td>97522e57-d9ab-4bd6-97bf-c24d952602d2</td>\n",
       "      <td>34e8add9-0206-47fd-a501-037b994650a2</td>\n",
       "      <td>disgust</td>\n",
       "      <td>2021-01-06 19:13:01</td>\n",
       "    </tr>\n",
       "  </tbody>\n",
       "</table>\n",
       "</div>"
      ],
      "text/plain": [
       "   Unnamed: 0                            Content ID  \\\n",
       "0           0  97522e57-d9ab-4bd6-97bf-c24d952602d2   \n",
       "1           1  97522e57-d9ab-4bd6-97bf-c24d952602d2   \n",
       "2           2  97522e57-d9ab-4bd6-97bf-c24d952602d2   \n",
       "3           3  97522e57-d9ab-4bd6-97bf-c24d952602d2   \n",
       "4           4  97522e57-d9ab-4bd6-97bf-c24d952602d2   \n",
       "\n",
       "                                User ID     Type             Datetime  \n",
       "0                                   NaN      NaN  2021-04-22 15:17:15  \n",
       "1  5d454588-283d-459d-915d-c48a2cb4c27f  disgust  2020-11-07 09:43:50  \n",
       "2  92b87fa5-f271-43e0-af66-84fac21052e6  dislike  2021-06-17 12:22:51  \n",
       "3  163daa38-8b77-48c9-9af6-37a6c1447ac2   scared  2021-04-18 05:13:58  \n",
       "4  34e8add9-0206-47fd-a501-037b994650a2  disgust  2021-01-06 19:13:01  "
      ]
     },
     "execution_count": 13,
     "metadata": {},
     "output_type": "execute_result"
    }
   ],
   "source": [
    "reactions.head()"
   ]
  },
  {
   "cell_type": "code",
   "execution_count": 14,
   "id": "b4fe51a4-46dd-43e4-959b-8d629e38ec3a",
   "metadata": {},
   "outputs": [],
   "source": [
    "reactions.drop(['Unnamed: 0', 'User ID'], axis=1, inplace=True)"
   ]
  },
  {
   "cell_type": "code",
   "execution_count": 15,
   "id": "f90818ce-7862-4c82-9243-f006eba9a374",
   "metadata": {},
   "outputs": [
    {
     "name": "stdout",
     "output_type": "stream",
     "text": [
      "<class 'pandas.core.frame.DataFrame'>\n",
      "RangeIndex: 25553 entries, 0 to 25552\n",
      "Data columns (total 3 columns):\n",
      " #   Column      Non-Null Count  Dtype \n",
      "---  ------      --------------  ----- \n",
      " 0   Content ID  25553 non-null  object\n",
      " 1   Type        24573 non-null  object\n",
      " 2   Datetime    25553 non-null  object\n",
      "dtypes: object(3)\n",
      "memory usage: 599.0+ KB\n"
     ]
    }
   ],
   "source": [
    "reactions.info()"
   ]
  },
  {
   "cell_type": "code",
   "execution_count": 16,
   "id": "66a1e8db-6462-4e8b-b2e7-b999ac3e86c2",
   "metadata": {},
   "outputs": [],
   "source": [
    "reactions.rename(columns={'Type': 'reaction_type'}, inplace= True)"
   ]
  },
  {
   "cell_type": "code",
   "execution_count": 17,
   "id": "545cfd86-b31a-4111-951f-7b384e1dcd78",
   "metadata": {},
   "outputs": [
    {
     "data": {
      "text/plain": [
       "reaction_type\n",
       "heart          1622\n",
       "scared         1572\n",
       "peeking        1559\n",
       "hate           1552\n",
       "interested     1549\n",
       "dislike        1548\n",
       "adore          1548\n",
       "want           1539\n",
       "love           1534\n",
       "disgust        1526\n",
       "like           1520\n",
       "super love     1519\n",
       "indifferent    1512\n",
       "cherish        1501\n",
       "worried        1497\n",
       "intrigued      1475\n",
       "Name: count, dtype: int64"
      ]
     },
     "execution_count": 17,
     "metadata": {},
     "output_type": "execute_result"
    }
   ],
   "source": [
    "reactions['reaction_type'].value_counts()"
   ]
  },
  {
   "cell_type": "code",
   "execution_count": 18,
   "id": "64e58594-5260-4a97-8959-0b3770371d33",
   "metadata": {},
   "outputs": [],
   "source": [
    "reactions['Datetime']= pd.to_datetime(reactions['Datetime'])"
   ]
  },
  {
   "cell_type": "code",
   "execution_count": 19,
   "id": "0bfb7a2b-8116-4b44-a35e-1757bb67b97f",
   "metadata": {},
   "outputs": [],
   "source": [
    "reactions.dropna(inplace=True)"
   ]
  },
  {
   "cell_type": "code",
   "execution_count": 20,
   "id": "be8e7e72-7579-413a-af2c-db479ebe12e6",
   "metadata": {},
   "outputs": [
    {
     "name": "stdout",
     "output_type": "stream",
     "text": [
      "<class 'pandas.core.frame.DataFrame'>\n",
      "Index: 24573 entries, 1 to 25552\n",
      "Data columns (total 3 columns):\n",
      " #   Column         Non-Null Count  Dtype         \n",
      "---  ------         --------------  -----         \n",
      " 0   Content ID     24573 non-null  object        \n",
      " 1   reaction_type  24573 non-null  object        \n",
      " 2   Datetime       24573 non-null  datetime64[ns]\n",
      "dtypes: datetime64[ns](1), object(2)\n",
      "memory usage: 767.9+ KB\n"
     ]
    }
   ],
   "source": [
    "reactions.info()"
   ]
  },
  {
   "cell_type": "code",
   "execution_count": 21,
   "id": "340b52c1-8225-41b4-81fd-4974f7f13d37",
   "metadata": {},
   "outputs": [
    {
     "data": {
      "text/html": [
       "<div>\n",
       "<style scoped>\n",
       "    .dataframe tbody tr th:only-of-type {\n",
       "        vertical-align: middle;\n",
       "    }\n",
       "\n",
       "    .dataframe tbody tr th {\n",
       "        vertical-align: top;\n",
       "    }\n",
       "\n",
       "    .dataframe thead th {\n",
       "        text-align: right;\n",
       "    }\n",
       "</style>\n",
       "<table border=\"1\" class=\"dataframe\">\n",
       "  <thead>\n",
       "    <tr style=\"text-align: right;\">\n",
       "      <th></th>\n",
       "      <th>Unnamed: 0</th>\n",
       "      <th>Type</th>\n",
       "      <th>Sentiment</th>\n",
       "      <th>Score</th>\n",
       "    </tr>\n",
       "  </thead>\n",
       "  <tbody>\n",
       "    <tr>\n",
       "      <th>0</th>\n",
       "      <td>0</td>\n",
       "      <td>heart</td>\n",
       "      <td>positive</td>\n",
       "      <td>60</td>\n",
       "    </tr>\n",
       "    <tr>\n",
       "      <th>1</th>\n",
       "      <td>1</td>\n",
       "      <td>want</td>\n",
       "      <td>positive</td>\n",
       "      <td>70</td>\n",
       "    </tr>\n",
       "    <tr>\n",
       "      <th>2</th>\n",
       "      <td>2</td>\n",
       "      <td>disgust</td>\n",
       "      <td>negative</td>\n",
       "      <td>0</td>\n",
       "    </tr>\n",
       "    <tr>\n",
       "      <th>3</th>\n",
       "      <td>3</td>\n",
       "      <td>hate</td>\n",
       "      <td>negative</td>\n",
       "      <td>5</td>\n",
       "    </tr>\n",
       "    <tr>\n",
       "      <th>4</th>\n",
       "      <td>4</td>\n",
       "      <td>interested</td>\n",
       "      <td>positive</td>\n",
       "      <td>30</td>\n",
       "    </tr>\n",
       "  </tbody>\n",
       "</table>\n",
       "</div>"
      ],
      "text/plain": [
       "   Unnamed: 0        Type Sentiment  Score\n",
       "0           0       heart  positive     60\n",
       "1           1        want  positive     70\n",
       "2           2     disgust  negative      0\n",
       "3           3        hate  negative      5\n",
       "4           4  interested  positive     30"
      ]
     },
     "execution_count": 21,
     "metadata": {},
     "output_type": "execute_result"
    }
   ],
   "source": [
    "reaction_types.head()"
   ]
  },
  {
   "cell_type": "code",
   "execution_count": 22,
   "id": "670cf36f-10c8-4686-96ff-9fb9bb85c16e",
   "metadata": {},
   "outputs": [],
   "source": [
    "reaction_types.drop(columns=['Unnamed: 0'], inplace= True)\n",
    "reaction_types= reaction_types.rename({'Type':'reaction_type'},axis=1)"
   ]
  },
  {
   "cell_type": "code",
   "execution_count": 23,
   "id": "35cd2579-e579-4028-87d0-e4d90c577745",
   "metadata": {},
   "outputs": [
    {
     "data": {
      "text/plain": [
       "reaction_type\n",
       "heart          1\n",
       "want           1\n",
       "disgust        1\n",
       "hate           1\n",
       "interested     1\n",
       "indifferent    1\n",
       "love           1\n",
       "super love     1\n",
       "cherish        1\n",
       "adore          1\n",
       "like           1\n",
       "dislike        1\n",
       "intrigued      1\n",
       "peeking        1\n",
       "scared         1\n",
       "worried        1\n",
       "Name: count, dtype: int64"
      ]
     },
     "execution_count": 23,
     "metadata": {},
     "output_type": "execute_result"
    }
   ],
   "source": [
    "reaction_types['reaction_type'].value_counts()"
   ]
  },
  {
   "cell_type": "code",
   "execution_count": 24,
   "id": "87da755a-7280-4f25-9323-f02af9cdf7fd",
   "metadata": {},
   "outputs": [
    {
     "name": "stdout",
     "output_type": "stream",
     "text": [
      "<class 'pandas.core.frame.DataFrame'>\n",
      "RangeIndex: 16 entries, 0 to 15\n",
      "Data columns (total 3 columns):\n",
      " #   Column         Non-Null Count  Dtype \n",
      "---  ------         --------------  ----- \n",
      " 0   reaction_type  16 non-null     object\n",
      " 1   Sentiment      16 non-null     object\n",
      " 2   Score          16 non-null     int64 \n",
      "dtypes: int64(1), object(2)\n",
      "memory usage: 516.0+ bytes\n"
     ]
    }
   ],
   "source": [
    "reaction_types.info()"
   ]
  },
  {
   "cell_type": "markdown",
   "id": "3195b47f-a974-49ea-970f-76ef9df045b3",
   "metadata": {},
   "source": [
    "**Merge datasets**"
   ]
  },
  {
   "cell_type": "code",
   "execution_count": 25,
   "id": "d4097f54-0f9a-4155-83a8-04af49c81924",
   "metadata": {},
   "outputs": [
    {
     "data": {
      "text/html": [
       "<div>\n",
       "<style scoped>\n",
       "    .dataframe tbody tr th:only-of-type {\n",
       "        vertical-align: middle;\n",
       "    }\n",
       "\n",
       "    .dataframe tbody tr th {\n",
       "        vertical-align: top;\n",
       "    }\n",
       "\n",
       "    .dataframe thead th {\n",
       "        text-align: right;\n",
       "    }\n",
       "</style>\n",
       "<table border=\"1\" class=\"dataframe\">\n",
       "  <thead>\n",
       "    <tr style=\"text-align: right;\">\n",
       "      <th></th>\n",
       "      <th>Content ID</th>\n",
       "      <th>content_type</th>\n",
       "      <th>Category</th>\n",
       "      <th>reaction_type</th>\n",
       "      <th>Datetime</th>\n",
       "      <th>Sentiment</th>\n",
       "      <th>Score</th>\n",
       "    </tr>\n",
       "  </thead>\n",
       "  <tbody>\n",
       "    <tr>\n",
       "      <th>0</th>\n",
       "      <td>97522e57-d9ab-4bd6-97bf-c24d952602d2</td>\n",
       "      <td>photo</td>\n",
       "      <td>studying</td>\n",
       "      <td>disgust</td>\n",
       "      <td>2020-11-07 09:43:50</td>\n",
       "      <td>negative</td>\n",
       "      <td>0</td>\n",
       "    </tr>\n",
       "    <tr>\n",
       "      <th>1</th>\n",
       "      <td>97522e57-d9ab-4bd6-97bf-c24d952602d2</td>\n",
       "      <td>photo</td>\n",
       "      <td>studying</td>\n",
       "      <td>disgust</td>\n",
       "      <td>2021-01-06 19:13:01</td>\n",
       "      <td>negative</td>\n",
       "      <td>0</td>\n",
       "    </tr>\n",
       "    <tr>\n",
       "      <th>2</th>\n",
       "      <td>97522e57-d9ab-4bd6-97bf-c24d952602d2</td>\n",
       "      <td>photo</td>\n",
       "      <td>studying</td>\n",
       "      <td>disgust</td>\n",
       "      <td>2021-04-09 02:46:20</td>\n",
       "      <td>negative</td>\n",
       "      <td>0</td>\n",
       "    </tr>\n",
       "    <tr>\n",
       "      <th>3</th>\n",
       "      <td>9f737e0a-3cdd-4d29-9d24-753f4e3be810</td>\n",
       "      <td>photo</td>\n",
       "      <td>healthy eating</td>\n",
       "      <td>disgust</td>\n",
       "      <td>2021-03-28 21:15:26</td>\n",
       "      <td>negative</td>\n",
       "      <td>0</td>\n",
       "    </tr>\n",
       "    <tr>\n",
       "      <th>4</th>\n",
       "      <td>230c4e4d-70c3-461d-b42c-ec09396efb3f</td>\n",
       "      <td>photo</td>\n",
       "      <td>healthy eating</td>\n",
       "      <td>disgust</td>\n",
       "      <td>2020-08-04 05:40:33</td>\n",
       "      <td>negative</td>\n",
       "      <td>0</td>\n",
       "    </tr>\n",
       "  </tbody>\n",
       "</table>\n",
       "</div>"
      ],
      "text/plain": [
       "                             Content ID content_type        Category  \\\n",
       "0  97522e57-d9ab-4bd6-97bf-c24d952602d2        photo        studying   \n",
       "1  97522e57-d9ab-4bd6-97bf-c24d952602d2        photo        studying   \n",
       "2  97522e57-d9ab-4bd6-97bf-c24d952602d2        photo        studying   \n",
       "3  9f737e0a-3cdd-4d29-9d24-753f4e3be810        photo  healthy eating   \n",
       "4  230c4e4d-70c3-461d-b42c-ec09396efb3f        photo  healthy eating   \n",
       "\n",
       "  reaction_type            Datetime Sentiment  Score  \n",
       "0       disgust 2020-11-07 09:43:50  negative      0  \n",
       "1       disgust 2021-01-06 19:13:01  negative      0  \n",
       "2       disgust 2021-04-09 02:46:20  negative      0  \n",
       "3       disgust 2021-03-28 21:15:26  negative      0  \n",
       "4       disgust 2020-08-04 05:40:33  negative      0  "
      ]
     },
     "metadata": {},
     "output_type": "display_data"
    },
    {
     "data": {
      "text/plain": [
       "(24573, 7)"
      ]
     },
     "metadata": {},
     "output_type": "display_data"
    }
   ],
   "source": [
    "results = content.merge(reactions, on='Content ID').merge(reaction_types, on='reaction_type')\n",
    "display(results.head())\n",
    "display(results.shape)"
   ]
  },
  {
   "cell_type": "code",
   "execution_count": 26,
   "id": "1a614c73-5b99-4711-b754-f083de04a9f4",
   "metadata": {},
   "outputs": [
    {
     "name": "stdout",
     "output_type": "stream",
     "text": [
      "<class 'pandas.core.frame.DataFrame'>\n",
      "RangeIndex: 24573 entries, 0 to 24572\n",
      "Data columns (total 7 columns):\n",
      " #   Column         Non-Null Count  Dtype         \n",
      "---  ------         --------------  -----         \n",
      " 0   Content ID     24573 non-null  object        \n",
      " 1   content_type   24573 non-null  object        \n",
      " 2   Category       24573 non-null  object        \n",
      " 3   reaction_type  24573 non-null  object        \n",
      " 4   Datetime       24573 non-null  datetime64[ns]\n",
      " 5   Sentiment      24573 non-null  object        \n",
      " 6   Score          24573 non-null  int64         \n",
      "dtypes: datetime64[ns](1), int64(1), object(5)\n",
      "memory usage: 1.3+ MB\n"
     ]
    }
   ],
   "source": [
    "results.info()"
   ]
  },
  {
   "cell_type": "code",
   "execution_count": 27,
   "id": "fe79228e-f9d1-407f-9899-f20eb42efee0",
   "metadata": {},
   "outputs": [
    {
     "data": {
      "text/plain": [
       "(0, 23611)"
      ]
     },
     "execution_count": 27,
     "metadata": {},
     "output_type": "execute_result"
    }
   ],
   "source": [
    "content['Content ID'].duplicated().sum(),reactions['Content ID'].duplicated().sum()"
   ]
  },
  {
   "cell_type": "code",
   "execution_count": 28,
   "id": "4241bef1-0d26-4257-8f68-72c075eacd2d",
   "metadata": {},
   "outputs": [
    {
     "data": {
      "text/plain": [
       "(0, 24557)"
      ]
     },
     "execution_count": 28,
     "metadata": {},
     "output_type": "execute_result"
    }
   ],
   "source": [
    "reaction_types['reaction_type'].duplicated().sum(),reactions['reaction_type'].duplicated().sum()"
   ]
  },
  {
   "cell_type": "markdown",
   "id": "f3f060fd-efa0-4420-a070-7b894e64f426",
   "metadata": {},
   "source": [
    "**As the number of rows in results is the same as that of reactions, we can be sure that no duplicates were created and no rows were unmatched**"
   ]
  },
  {
   "cell_type": "code",
   "execution_count": 29,
   "id": "944ea168-4615-45d1-9847-5fce2baa972a",
   "metadata": {},
   "outputs": [],
   "source": [
    "results.to_excel('results.xlsx')"
   ]
  },
  {
   "cell_type": "code",
   "execution_count": 30,
   "id": "8f9d8b5d-f846-455b-9af2-1427e4b9f69d",
   "metadata": {},
   "outputs": [],
   "source": [
    "aggregate = results.groupby('Category')['Score'].sum().sort_values(ascending=False)"
   ]
  },
  {
   "cell_type": "code",
   "execution_count": 31,
   "id": "41afcdc4-b32a-4c19-a9c3-739803076a37",
   "metadata": {},
   "outputs": [],
   "source": [
    "top5 = aggregate[:5]"
   ]
  },
  {
   "cell_type": "code",
   "execution_count": 32,
   "id": "2716be85-fe08-4fcc-b685-71e796d3abaf",
   "metadata": {},
   "outputs": [
    {
     "data": {
      "text/plain": [
       "Category\n",
       "animals           74965\n",
       "science           71168\n",
       "healthy eating    69339\n",
       "technology        68738\n",
       "food              66676\n",
       "Name: Score, dtype: int64"
      ]
     },
     "execution_count": 32,
     "metadata": {},
     "output_type": "execute_result"
    }
   ],
   "source": [
    "top5"
   ]
  },
  {
   "cell_type": "code",
   "execution_count": 33,
   "id": "fb285d91-76ab-45f4-981c-0317f18b693a",
   "metadata": {},
   "outputs": [],
   "source": [
    "with pd.ExcelWriter('top5category.xlsx') as writer:\n",
    "    results.to_excel(writer, sheet_name='Cleaned Table')\n",
    "    aggregate.to_excel(writer, sheet_name='Aggregate Score')\n",
    "    top5.to_excel(writer, sheet_name='Top 5 Categories')"
   ]
  },
  {
   "cell_type": "markdown",
   "id": "1308b052-025f-4d66-9abc-d3f95394b015",
   "metadata": {},
   "source": [
    "## Make visualizations"
   ]
  },
  {
   "cell_type": "code",
   "execution_count": 34,
   "id": "69a0e774-3866-403f-83a3-ce83fe4ab0d6",
   "metadata": {},
   "outputs": [
    {
     "data": {
      "image/png": "[encoded data removed]",
      "text/plain": [
       "<Figure size 600x300 with 1 Axes>"
      ]
     },
     "metadata": {},
     "output_type": "display_data"
    }
   ],
   "source": [
    "plt.figure(figsize=(6, 3))\n",
    "sns.barplot(y=top5.index, x=top5.values);# 注意这里不能用countplot因为数据已经汇总好了\n",
    "for i, value in enumerate(top5.values):\n",
    "    plt.text(value, i, f'{value}', va='center', ha='left', fontsize=10, color='black')\n",
    "plt.xlabel('')\n",
    "plt.ylabel('')\n",
    "plt.tight_layout()\n",
    "plt.gca().spines[['top','right','left','bottom']].set_visible(False)\n",
    "plt.tick_params(axis='both', length=0)\n",
    "plt.tick_params(axis='x', labelbottom=False) \n",
    "plt.title(\"Top 5 Categories by aggrate 'popularity' scores\")\n",
    "plt.savefig(\"Top 5 Categories by aggrate 'popularity' scores\");"
   ]
  },
  {
   "cell_type": "code",
   "execution_count": 35,
   "id": "9b44c7a3-387e-4051-9692-081ef38ab68f",
   "metadata": {},
   "outputs": [
    {
     "data": {
      "image/png": "[encoded data removed]",
      "text/plain": [
       "<Figure size 640x480 with 1 Axes>"
      ]
     },
     "metadata": {},
     "output_type": "display_data"
    }
   ],
   "source": [
    "colors = sns.color_palette('pastel')[:len(top5)]\n",
    "highlight_index = 0\n",
    "explode = [0.1 if i == highlight_index else 0 for i in range(len(top5))]\n",
    "plt.pie(top5, labels=top5.index, autopct='%1.1f%%', colors=colors, explode=explode, shadow =True, textprops={'fontsize': 12})\n",
    "\n",
    "# Title and layout\n",
    "plt.title('Populartiy Percentage share from top 5 categories')\n",
    "plt.savefig('Populartiy Percentage share from top 5 categories');"
   ]
  },
  {
   "cell_type": "code",
   "execution_count": 36,
   "id": "3be53160-8e11-45a9-9b5c-13c2f218ddee",
   "metadata": {
    "scrolled": true
   },
   "outputs": [
    {
     "name": "stderr",
     "output_type": "stream",
     "text": [
      "/var/folders/sk/tkm8wbdn5d717x9h1k6b_3yc0000gn/T/ipykernel_94732/2125046929.py:8: SettingWithCopyWarning: \n",
      "A value is trying to be set on a copy of a slice from a DataFrame.\n",
      "Try using .loc[row_indexer,col_indexer] = value instead\n",
      "\n",
      "See the caveats in the documentation: https://pandas.pydata.org/pandas-docs/stable/user_guide/indexing.html#returning-a-view-versus-a-copy\n",
      "  top5_popular.loc[:,'mapped_reaction_type']=top5_popular['reaction_type'].map(category_mapping)\n"
     ]
    }
   ],
   "source": [
    "top5_popular=results[results['Category'].isin(top5.index)]\n",
    "category_mapping = {\n",
    "    'adore': 'positive','cherish': 'positive', 'disgust': 'negative','dislike': 'negative','hate':'negative','heart': 'neutral',\n",
    "    'indifferent': 'neutral','interested': 'positive','intrigued': 'positive', 'like':'positive',\n",
    "    'love':'positive', 'peeking':'neutral','scared':'negative','super love':'positive','want':'positive','worried':'negative'\n",
    "}\n",
    "#mostPopularCategory=mostPopularCategory.to_frame(name='count').reset_index()\n",
    "top5_popular.loc[:,'mapped_reaction_type']=top5_popular['reaction_type'].map(category_mapping)"
   ]
  },
  {
   "cell_type": "code",
   "execution_count": 37,
   "id": "60042c09-dfe4-4935-8145-341fa6b2640e",
   "metadata": {},
   "outputs": [
    {
     "data": {
      "text/html": [
       "<div>\n",
       "<style scoped>\n",
       "    .dataframe tbody tr th:only-of-type {\n",
       "        vertical-align: middle;\n",
       "    }\n",
       "\n",
       "    .dataframe tbody tr th {\n",
       "        vertical-align: top;\n",
       "    }\n",
       "\n",
       "    .dataframe thead th {\n",
       "        text-align: right;\n",
       "    }\n",
       "</style>\n",
       "<table border=\"1\" class=\"dataframe\">\n",
       "  <thead>\n",
       "    <tr style=\"text-align: right;\">\n",
       "      <th>mapped_reaction_type</th>\n",
       "      <th>negative</th>\n",
       "      <th>neutral</th>\n",
       "      <th>positive</th>\n",
       "    </tr>\n",
       "    <tr>\n",
       "      <th>Category</th>\n",
       "      <th></th>\n",
       "      <th></th>\n",
       "      <th></th>\n",
       "    </tr>\n",
       "  </thead>\n",
       "  <tbody>\n",
       "    <tr>\n",
       "      <th>technology</th>\n",
       "      <td>510</td>\n",
       "      <td>328</td>\n",
       "      <td>860</td>\n",
       "    </tr>\n",
       "    <tr>\n",
       "      <th>food</th>\n",
       "      <td>544</td>\n",
       "      <td>319</td>\n",
       "      <td>836</td>\n",
       "    </tr>\n",
       "    <tr>\n",
       "      <th>healthy eating</th>\n",
       "      <td>520</td>\n",
       "      <td>326</td>\n",
       "      <td>871</td>\n",
       "    </tr>\n",
       "    <tr>\n",
       "      <th>science</th>\n",
       "      <td>547</td>\n",
       "      <td>349</td>\n",
       "      <td>900</td>\n",
       "    </tr>\n",
       "    <tr>\n",
       "      <th>animals</th>\n",
       "      <td>618</td>\n",
       "      <td>349</td>\n",
       "      <td>930</td>\n",
       "    </tr>\n",
       "  </tbody>\n",
       "</table>\n",
       "</div>"
      ],
      "text/plain": [
       "mapped_reaction_type  negative  neutral  positive\n",
       "Category                                         \n",
       "technology                 510      328       860\n",
       "food                       544      319       836\n",
       "healthy eating             520      326       871\n",
       "science                    547      349       900\n",
       "animals                    618      349       930"
      ]
     },
     "execution_count": 37,
     "metadata": {},
     "output_type": "execute_result"
    }
   ],
   "source": [
    "top5_popular=top5_popular.groupby(['Category', 'mapped_reaction_type']).size().unstack()\n",
    "top5_popular = top5_popular.loc[top5_popular.sum(axis=1).sort_values().index]\n",
    "top5_popular"
   ]
  },
  {
   "cell_type": "code",
   "execution_count": 38,
   "id": "9ebb19bf-7991-407c-bf2e-0a261fe08869",
   "metadata": {},
   "outputs": [
    {
     "data": {
      "image/png": "[encoded data removed]",
      "text/plain": [
       "<Figure size 1000x400 with 1 Axes>"
      ]
     },
     "metadata": {},
     "output_type": "display_data"
    }
   ],
   "source": [
    "ax = top5_popular.plot(kind='barh', stacked=True, figsize=(10,4))\n",
    "\n",
    "# Add percentages of the summed total sales as labels \n",
    "# .patches is everything inside of the chart\n",
    "for rect in ax.patches:\n",
    "    # Find where everything is located\n",
    "    height = rect.get_height()\n",
    "    width = rect.get_width()\n",
    "    label = width\n",
    "    x = rect.get_x()\n",
    "    y = rect.get_y()\n",
    "    \n",
    "    label_text = f'{label:.0f}' \n",
    "    \n",
    "    # Set label positions\n",
    "    label_x = x + width / 2\n",
    "    label_y = y + height / 2\n",
    "    \n",
    "   \n",
    "    ax.text(label_x, label_y, label_text, ha='center', va='center', fontsize=10)\n",
    "        \n",
    "ax.set_xlabel(\"\")\n",
    "ax.set_ylabel(\"\")\n",
    "ax.legend(loc='lower right', bbox_to_anchor=(1.05, 0.0))\n",
    "plt.gca().spines[['top','right','left','bottom']].set_visible(False)\n",
    "plt.tick_params(axis='both', length=0)\n",
    "plt.tick_params(axis='x', labelbottom=False)\n",
    "ax.set_title('Reactions to the Top 5 popular categories')\n",
    "plt.show()"
   ]
  },
  {
   "cell_type": "code",
   "execution_count": 39,
   "id": "b75a4c78-2349-438b-a9c0-bc3a2b24d1d2",
   "metadata": {},
   "outputs": [
    {
     "data": {
      "text/plain": [
       "Datetime\n",
       "2020-06     892\n",
       "2020-07    2070\n",
       "2020-08    2114\n",
       "2020-09    2022\n",
       "2020-10    2056\n",
       "2020-11    2034\n",
       "2020-12    2092\n",
       "2021-01    2126\n",
       "2021-02    1914\n",
       "2021-03    2012\n",
       "2021-04    1974\n",
       "2021-05    2138\n",
       "2021-06    1129\n",
       "Name: count, dtype: int64"
      ]
     },
     "execution_count": 39,
     "metadata": {},
     "output_type": "execute_result"
    }
   ],
   "source": [
    "results['Datetime'].dt.strftime('%Y-%m').value_counts().sort_index()"
   ]
  },
  {
   "cell_type": "code",
   "execution_count": 40,
   "id": "c9698ecc-be49-4b75-b7d9-4b9012276591",
   "metadata": {},
   "outputs": [],
   "source": [
    "#type(results['Datetime'].str.slice(5,7))"
   ]
  },
  {
   "cell_type": "code",
   "execution_count": 41,
   "id": "b5983bd5-204b-484a-8526-669fddbe13b6",
   "metadata": {},
   "outputs": [
    {
     "data": {
      "text/plain": [
       "Datetime\n",
       "2020-06    536\n",
       "2020-07    778\n",
       "2020-08    773\n",
       "2020-09    754\n",
       "2020-10    771\n",
       "2020-11    768\n",
       "2020-12    756\n",
       "2021-01    781\n",
       "2021-02    755\n",
       "2021-03    753\n",
       "2021-04    736\n",
       "2021-05    759\n",
       "2021-06    610\n",
       "Name: Content ID, dtype: int64"
      ]
     },
     "execution_count": 41,
     "metadata": {},
     "output_type": "execute_result"
    }
   ],
   "source": [
    "post_by_month=results.groupby(results['Datetime'].dt.strftime('%Y-%m'))['Content ID'].nunique()\n",
    "post_by_month"
   ]
  },
  {
   "cell_type": "code",
   "execution_count": 45,
   "id": "4d09b20a-f017-4a51-a592-42e20318ee4d",
   "metadata": {},
   "outputs": [
    {
     "data": {
      "image/png": "[encoded data removed]",
      "text/plain": [
       "<Figure size 1200x300 with 1 Axes>"
      ]
     },
     "metadata": {},
     "output_type": "display_data"
    }
   ],
   "source": [
    "plt.figure(figsize=(12, 3))\n",
    "ax = plt.plot(post_by_month.index, post_by_month.values, marker='o')\n",
    "\n",
    "for i, value in enumerate(post_by_month.values):\n",
    "    if i==0:\n",
    "        plt.text(post_by_month.index[i], value+10, f'{value:.0f}', ha='center', va='bottom', fontsize=10, color='black')  \n",
    "    else:\n",
    "        plt.text(post_by_month.index[i], value-30, f'{value:.0f}', ha='center', va='bottom', fontsize=10, color='black')\n",
    "\n",
    "plt.ylabel('')\n",
    "plt.xlabel('')\n",
    "plt.gca().spines[['top','right','left','bottom']].set_visible(False)\n",
    "plt.tick_params(axis='both', length=0)\n",
    "#plt.tick_params(axis='y', labelleft=False) \n",
    "plt.grid(axis='y')\n",
    "plt.title('Months with Posts', y=-0.3, fontsize=14)\n",
    "plt.tight_layout() \n",
    "plt.savefig('Months with Posts')\n",
    "plt.show()"
   ]
  }
 ],
 "metadata": {
  "kernelspec": {
   "display_name": "Python 3 (ipykernel)",
   "language": "python",
   "name": "python3"
  },
  "language_info": {
   "codemirror_mode": {
    "name": "ipython",
    "version": 3
   },
   "file_extension": ".py",
   "mimetype": "text/x-python",
   "name": "python",
   "nbconvert_exporter": "python",
   "pygments_lexer": "ipython3",
   "version": "3.11.8"
  }
 },
 "nbformat": 4,
 "nbformat_minor": 5
}
